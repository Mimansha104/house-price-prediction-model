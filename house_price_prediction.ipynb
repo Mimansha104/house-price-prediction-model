{
  "nbformat": 4,
  "nbformat_minor": 5,
  "metadata": {
    "kernelspec": {
      "display_name": "Python 3",
      "language": "python",
      "name": "python3"
    },
    "language_info": {
      "codemirror_mode": {
        "name": "ipython",
        "version": 3
      },
      "file_extension": ".py",
      "mimetype": "text/x-python",
      "name": "python",
      "nbconvert_exporter": "python",
      "pygments_lexer": "ipython3",
      "version": "3.7.9"
    },
    "papermill": {
      "default_parameters": {},
      "duration": 52.074557,
      "end_time": "2021-04-14T20:56:43.661478",
      "environment_variables": {},
      "exception": null,
      "input_path": "__notebook__.ipynb",
      "output_path": "__notebook__.ipynb",
      "parameters": {},
      "start_time": "2021-04-14T20:55:51.586921",
      "version": "2.3.2"
    },
    "colab": {
      "name": "house-price-prediction.ipynb",
      "provenance": [],
      "include_colab_link": true
    }
  },
  "cells": [
    {
      "cell_type": "markdown",
      "metadata": {
        "id": "view-in-github",
        "colab_type": "text"
      },
      "source": [
        "<a href=\"https://colab.research.google.com/github/Mimansha104/house-price-prediction-model/blob/main/house_price_prediction.ipynb\" target=\"_parent\"><img src=\"https://colab.research.google.com/assets/colab-badge.svg\" alt=\"Open In Colab\"/></a>"
      ]
    },
    {
      "cell_type": "code",
      "metadata": {
        "_cell_guid": "b1076dfc-b9ad-4769-8c92-a6c4dae69d19",
        "_uuid": "8f2839f25d086af736a60e9eeb907d3b93b6e0e5",
        "execution": {
          "iopub.execute_input": "2021-04-14T20:55:59.131899Z",
          "iopub.status.busy": "2021-04-14T20:55:59.131115Z",
          "iopub.status.idle": "2021-04-14T20:55:59.144866Z",
          "shell.execute_reply": "2021-04-14T20:55:59.143899Z"
        },
        "papermill": {
          "duration": 0.083277,
          "end_time": "2021-04-14T20:55:59.145092",
          "exception": false,
          "start_time": "2021-04-14T20:55:59.061815",
          "status": "completed"
        },
        "tags": [],
        "id": "concerned-regression",
        "outputId": "ffe40dd6-3684-4675-bb35-769e9fafe2c9"
      },
      "source": [
        "# This Python 3 environment comes with many helpful analytics libraries installed\n",
        "# It is defined by the kaggle/python Docker image: https://github.com/kaggle/docker-python\n",
        "# For example, here's several helpful packages to load\n",
        "\n",
        "import numpy as np # linear algebra\n",
        "import pandas as pd # data processing, CSV file I/O (e.g. pd.read_csv)\n",
        "\n",
        "# Input data files are available in the read-only \"../input/\" directory\n",
        "# For example, running this (by clicking run or pressing Shift+Enter) will list all files under the input directory\n",
        "\n",
        "import os\n",
        "for dirname, _, filenames in os.walk('/kaggle/input'):\n",
        "    for filename in filenames:\n",
        "        print(os.path.join(dirname, filename))\n",
        "\n",
        "# You can write up to 20GB to the current directory (/kaggle/working/) that gets preserved as output when you create a version using \"Save & Run All\" \n",
        "# You can also write temporary files to /kaggle/temp/, but they won't be saved outside of the current session"
      ],
      "id": "concerned-regression",
      "execution_count": null,
      "outputs": [
        {
          "output_type": "stream",
          "text": [
            "/kaggle/input/bengaluru-house-price-data/Bengaluru_House_Data.csv\n"
          ],
          "name": "stdout"
        }
      ]
    },
    {
      "cell_type": "code",
      "metadata": {
        "execution": {
          "iopub.execute_input": "2021-04-14T20:55:59.281037Z",
          "iopub.status.busy": "2021-04-14T20:55:59.280166Z",
          "iopub.status.idle": "2021-04-14T20:55:59.342302Z",
          "shell.execute_reply": "2021-04-14T20:55:59.341428Z"
        },
        "papermill": {
          "duration": 0.133877,
          "end_time": "2021-04-14T20:55:59.342478",
          "exception": false,
          "start_time": "2021-04-14T20:55:59.208601",
          "status": "completed"
        },
        "tags": [],
        "id": "accepting-validation"
      },
      "source": [
        "df= pd.read_csv('/kaggle/input/bengaluru-house-price-data/Bengaluru_House_Data.csv')"
      ],
      "id": "accepting-validation",
      "execution_count": null,
      "outputs": []
    },
    {
      "cell_type": "code",
      "metadata": {
        "execution": {
          "iopub.execute_input": "2021-04-14T20:55:59.480821Z",
          "iopub.status.busy": "2021-04-14T20:55:59.479809Z",
          "iopub.status.idle": "2021-04-14T20:55:59.485460Z",
          "shell.execute_reply": "2021-04-14T20:55:59.484829Z"
        },
        "papermill": {
          "duration": 0.081597,
          "end_time": "2021-04-14T20:55:59.485632",
          "exception": false,
          "start_time": "2021-04-14T20:55:59.404035",
          "status": "completed"
        },
        "tags": [],
        "id": "historical-reference",
        "outputId": "f0dd2851-d627-41e1-a8a9-25220a5ba363"
      },
      "source": [
        "df.shape"
      ],
      "id": "historical-reference",
      "execution_count": null,
      "outputs": [
        {
          "output_type": "execute_result",
          "data": {
            "text/plain": [
              "(13320, 9)"
            ]
          },
          "metadata": {
            "tags": []
          },
          "execution_count": 3
        }
      ]
    },
    {
      "cell_type": "code",
      "metadata": {
        "execution": {
          "iopub.execute_input": "2021-04-14T20:55:59.628251Z",
          "iopub.status.busy": "2021-04-14T20:55:59.627293Z",
          "iopub.status.idle": "2021-04-14T20:55:59.652166Z",
          "shell.execute_reply": "2021-04-14T20:55:59.651318Z"
        },
        "papermill": {
          "duration": 0.105341,
          "end_time": "2021-04-14T20:55:59.652344",
          "exception": false,
          "start_time": "2021-04-14T20:55:59.547003",
          "status": "completed"
        },
        "tags": [],
        "id": "metric-consent",
        "outputId": "6ed2abd2-f321-4b38-d9da-b8cdfd6ce82d"
      },
      "source": [
        "df.sample(5)"
      ],
      "id": "metric-consent",
      "execution_count": null,
      "outputs": [
        {
          "output_type": "execute_result",
          "data": {
            "text/html": [
              "<div>\n",
              "<style scoped>\n",
              "    .dataframe tbody tr th:only-of-type {\n",
              "        vertical-align: middle;\n",
              "    }\n",
              "\n",
              "    .dataframe tbody tr th {\n",
              "        vertical-align: top;\n",
              "    }\n",
              "\n",
              "    .dataframe thead th {\n",
              "        text-align: right;\n",
              "    }\n",
              "</style>\n",
              "<table border=\"1\" class=\"dataframe\">\n",
              "  <thead>\n",
              "    <tr style=\"text-align: right;\">\n",
              "      <th></th>\n",
              "      <th>area_type</th>\n",
              "      <th>availability</th>\n",
              "      <th>location</th>\n",
              "      <th>size</th>\n",
              "      <th>society</th>\n",
              "      <th>total_sqft</th>\n",
              "      <th>bath</th>\n",
              "      <th>balcony</th>\n",
              "      <th>price</th>\n",
              "    </tr>\n",
              "  </thead>\n",
              "  <tbody>\n",
              "    <tr>\n",
              "      <th>12837</th>\n",
              "      <td>Super built-up  Area</td>\n",
              "      <td>Ready To Move</td>\n",
              "      <td>Electronic City</td>\n",
              "      <td>2 BHK</td>\n",
              "      <td>GMown E</td>\n",
              "      <td>1025</td>\n",
              "      <td>2.0</td>\n",
              "      <td>1.0</td>\n",
              "      <td>54.0</td>\n",
              "    </tr>\n",
              "    <tr>\n",
              "      <th>6092</th>\n",
              "      <td>Built-up  Area</td>\n",
              "      <td>Ready To Move</td>\n",
              "      <td>Bommanahalli</td>\n",
              "      <td>2 BHK</td>\n",
              "      <td>NaN</td>\n",
              "      <td>1290</td>\n",
              "      <td>2.0</td>\n",
              "      <td>1.0</td>\n",
              "      <td>73.0</td>\n",
              "    </tr>\n",
              "    <tr>\n",
              "      <th>6612</th>\n",
              "      <td>Super built-up  Area</td>\n",
              "      <td>17-May</td>\n",
              "      <td>Whitefield</td>\n",
              "      <td>2 BHK</td>\n",
              "      <td>SVineun</td>\n",
              "      <td>1100</td>\n",
              "      <td>2.0</td>\n",
              "      <td>1.0</td>\n",
              "      <td>37.0</td>\n",
              "    </tr>\n",
              "    <tr>\n",
              "      <th>5958</th>\n",
              "      <td>Plot  Area</td>\n",
              "      <td>18-May</td>\n",
              "      <td>TC Palaya</td>\n",
              "      <td>3 Bedroom</td>\n",
              "      <td>NaN</td>\n",
              "      <td>1200</td>\n",
              "      <td>2.0</td>\n",
              "      <td>0.0</td>\n",
              "      <td>66.0</td>\n",
              "    </tr>\n",
              "    <tr>\n",
              "      <th>12879</th>\n",
              "      <td>Built-up  Area</td>\n",
              "      <td>Ready To Move</td>\n",
              "      <td>Bannerghatta Road</td>\n",
              "      <td>2 BHK</td>\n",
              "      <td>Malmser</td>\n",
              "      <td>1206</td>\n",
              "      <td>2.0</td>\n",
              "      <td>3.0</td>\n",
              "      <td>53.0</td>\n",
              "    </tr>\n",
              "  </tbody>\n",
              "</table>\n",
              "</div>"
            ],
            "text/plain": [
              "                  area_type   availability           location       size  \\\n",
              "12837  Super built-up  Area  Ready To Move    Electronic City      2 BHK   \n",
              "6092         Built-up  Area  Ready To Move       Bommanahalli      2 BHK   \n",
              "6612   Super built-up  Area         17-May         Whitefield      2 BHK   \n",
              "5958             Plot  Area         18-May          TC Palaya  3 Bedroom   \n",
              "12879        Built-up  Area  Ready To Move  Bannerghatta Road      2 BHK   \n",
              "\n",
              "       society total_sqft  bath  balcony  price  \n",
              "12837  GMown E       1025   2.0      1.0   54.0  \n",
              "6092       NaN       1290   2.0      1.0   73.0  \n",
              "6612   SVineun       1100   2.0      1.0   37.0  \n",
              "5958       NaN       1200   2.0      0.0   66.0  \n",
              "12879  Malmser       1206   2.0      3.0   53.0  "
            ]
          },
          "metadata": {
            "tags": []
          },
          "execution_count": 4
        }
      ]
    },
    {
      "cell_type": "code",
      "metadata": {
        "execution": {
          "iopub.execute_input": "2021-04-14T20:55:59.785864Z",
          "iopub.status.busy": "2021-04-14T20:55:59.784704Z",
          "iopub.status.idle": "2021-04-14T20:55:59.789969Z",
          "shell.execute_reply": "2021-04-14T20:55:59.789287Z"
        },
        "papermill": {
          "duration": 0.075266,
          "end_time": "2021-04-14T20:55:59.790127",
          "exception": false,
          "start_time": "2021-04-14T20:55:59.714861",
          "status": "completed"
        },
        "tags": [],
        "id": "similar-highland",
        "outputId": "8748454b-7406-44f1-a8b5-452cbc23e20c"
      },
      "source": [
        "df['location'].values"
      ],
      "id": "similar-highland",
      "execution_count": null,
      "outputs": [
        {
          "output_type": "execute_result",
          "data": {
            "text/plain": [
              "array(['Electronic City Phase II', 'Chikka Tirupathi', 'Uttarahalli', ...,\n",
              "       'Raja Rajeshwari Nagar', 'Padmanabhanagar', 'Doddathoguru'],\n",
              "      dtype=object)"
            ]
          },
          "metadata": {
            "tags": []
          },
          "execution_count": 5
        }
      ]
    },
    {
      "cell_type": "code",
      "metadata": {
        "execution": {
          "iopub.execute_input": "2021-04-14T20:55:59.927536Z",
          "iopub.status.busy": "2021-04-14T20:55:59.926531Z",
          "iopub.status.idle": "2021-04-14T20:55:59.954763Z",
          "shell.execute_reply": "2021-04-14T20:55:59.955407Z"
        },
        "papermill": {
          "duration": 0.102482,
          "end_time": "2021-04-14T20:55:59.955672",
          "exception": false,
          "start_time": "2021-04-14T20:55:59.853190",
          "status": "completed"
        },
        "tags": [],
        "id": "marine-richardson",
        "outputId": "45d4d26e-a5ca-4947-c182-e1a2ab93b8af"
      },
      "source": [
        "df.duplicated().value_counts()"
      ],
      "id": "marine-richardson",
      "execution_count": null,
      "outputs": [
        {
          "output_type": "execute_result",
          "data": {
            "text/plain": [
              "False    12791\n",
              "True       529\n",
              "dtype: int64"
            ]
          },
          "metadata": {
            "tags": []
          },
          "execution_count": 6
        }
      ]
    },
    {
      "cell_type": "code",
      "metadata": {
        "execution": {
          "iopub.execute_input": "2021-04-14T20:56:00.091191Z",
          "iopub.status.busy": "2021-04-14T20:56:00.090295Z",
          "iopub.status.idle": "2021-04-14T20:56:00.108494Z",
          "shell.execute_reply": "2021-04-14T20:56:00.107807Z"
        },
        "papermill": {
          "duration": 0.089775,
          "end_time": "2021-04-14T20:56:00.108708",
          "exception": false,
          "start_time": "2021-04-14T20:56:00.018933",
          "status": "completed"
        },
        "tags": [],
        "id": "alleged-canada"
      },
      "source": [
        "df.drop_duplicates(keep='first',inplace=True)"
      ],
      "id": "alleged-canada",
      "execution_count": null,
      "outputs": []
    },
    {
      "cell_type": "code",
      "metadata": {
        "execution": {
          "iopub.execute_input": "2021-04-14T20:56:00.245913Z",
          "iopub.status.busy": "2021-04-14T20:56:00.244720Z",
          "iopub.status.idle": "2021-04-14T20:56:00.265586Z",
          "shell.execute_reply": "2021-04-14T20:56:00.266225Z"
        },
        "papermill": {
          "duration": 0.093072,
          "end_time": "2021-04-14T20:56:00.266444",
          "exception": false,
          "start_time": "2021-04-14T20:56:00.173372",
          "status": "completed"
        },
        "tags": [],
        "id": "informational-karen",
        "outputId": "ad1140ae-4412-4e00-b815-194b9a022183"
      },
      "source": [
        "df.duplicated().sum()"
      ],
      "id": "informational-karen",
      "execution_count": null,
      "outputs": [
        {
          "output_type": "execute_result",
          "data": {
            "text/plain": [
              "0"
            ]
          },
          "metadata": {
            "tags": []
          },
          "execution_count": 8
        }
      ]
    },
    {
      "cell_type": "code",
      "metadata": {
        "execution": {
          "iopub.execute_input": "2021-04-14T20:56:00.406348Z",
          "iopub.status.busy": "2021-04-14T20:56:00.405138Z",
          "iopub.status.idle": "2021-04-14T20:56:00.410605Z",
          "shell.execute_reply": "2021-04-14T20:56:00.409888Z"
        },
        "papermill": {
          "duration": 0.07875,
          "end_time": "2021-04-14T20:56:00.410821",
          "exception": false,
          "start_time": "2021-04-14T20:56:00.332071",
          "status": "completed"
        },
        "tags": [],
        "id": "trying-browse",
        "outputId": "cdd5010b-165b-485c-9956-8aa793d67938"
      },
      "source": [
        "df.shape"
      ],
      "id": "trying-browse",
      "execution_count": null,
      "outputs": [
        {
          "output_type": "execute_result",
          "data": {
            "text/plain": [
              "(12791, 9)"
            ]
          },
          "metadata": {
            "tags": []
          },
          "execution_count": 9
        }
      ]
    },
    {
      "cell_type": "code",
      "metadata": {
        "execution": {
          "iopub.execute_input": "2021-04-14T20:56:00.555559Z",
          "iopub.status.busy": "2021-04-14T20:56:00.547562Z",
          "iopub.status.idle": "2021-04-14T20:56:00.572301Z",
          "shell.execute_reply": "2021-04-14T20:56:00.572933Z"
        },
        "papermill": {
          "duration": 0.096312,
          "end_time": "2021-04-14T20:56:00.573152",
          "exception": false,
          "start_time": "2021-04-14T20:56:00.476840",
          "status": "completed"
        },
        "tags": [],
        "id": "cutting-junior",
        "outputId": "470f3ba6-a14a-4da5-c96b-e7544e9e18c2"
      },
      "source": [
        "df.info()"
      ],
      "id": "cutting-junior",
      "execution_count": null,
      "outputs": [
        {
          "output_type": "stream",
          "text": [
            "<class 'pandas.core.frame.DataFrame'>\n",
            "Int64Index: 12791 entries, 0 to 13318\n",
            "Data columns (total 9 columns):\n",
            " #   Column        Non-Null Count  Dtype  \n",
            "---  ------        --------------  -----  \n",
            " 0   area_type     12791 non-null  object \n",
            " 1   availability  12791 non-null  object \n",
            " 2   location      12790 non-null  object \n",
            " 3   size          12775 non-null  object \n",
            " 4   society       7463 non-null   object \n",
            " 5   total_sqft    12791 non-null  object \n",
            " 6   bath          12718 non-null  float64\n",
            " 7   balcony       12186 non-null  float64\n",
            " 8   price         12791 non-null  float64\n",
            "dtypes: float64(3), object(6)\n",
            "memory usage: 999.3+ KB\n"
          ],
          "name": "stdout"
        }
      ]
    },
    {
      "cell_type": "code",
      "metadata": {
        "execution": {
          "iopub.execute_input": "2021-04-14T20:56:00.715132Z",
          "iopub.status.busy": "2021-04-14T20:56:00.706617Z",
          "iopub.status.idle": "2021-04-14T20:56:00.725041Z",
          "shell.execute_reply": "2021-04-14T20:56:00.725573Z"
        },
        "papermill": {
          "duration": 0.088321,
          "end_time": "2021-04-14T20:56:00.725807",
          "exception": false,
          "start_time": "2021-04-14T20:56:00.637486",
          "status": "completed"
        },
        "tags": [],
        "id": "behind-stranger",
        "outputId": "10e0649d-32fc-41a2-e21f-130f381b517b"
      },
      "source": [
        "df.isnull().sum()"
      ],
      "id": "behind-stranger",
      "execution_count": null,
      "outputs": [
        {
          "output_type": "execute_result",
          "data": {
            "text/plain": [
              "area_type          0\n",
              "availability       0\n",
              "location           1\n",
              "size              16\n",
              "society         5328\n",
              "total_sqft         0\n",
              "bath              73\n",
              "balcony          605\n",
              "price              0\n",
              "dtype: int64"
            ]
          },
          "metadata": {
            "tags": []
          },
          "execution_count": 11
        }
      ]
    },
    {
      "cell_type": "code",
      "metadata": {
        "execution": {
          "iopub.execute_input": "2021-04-14T20:56:00.874387Z",
          "iopub.status.busy": "2021-04-14T20:56:00.873667Z",
          "iopub.status.idle": "2021-04-14T20:56:00.878352Z",
          "shell.execute_reply": "2021-04-14T20:56:00.877705Z"
        },
        "papermill": {
          "duration": 0.085246,
          "end_time": "2021-04-14T20:56:00.878506",
          "exception": false,
          "start_time": "2021-04-14T20:56:00.793260",
          "status": "completed"
        },
        "tags": [],
        "id": "fatty-blanket",
        "outputId": "5777c063-f48d-46d7-de66-bed8a56f9883"
      },
      "source": [
        "df['society'].value_counts()"
      ],
      "id": "fatty-blanket",
      "execution_count": null,
      "outputs": [
        {
          "output_type": "execute_result",
          "data": {
            "text/plain": [
              "GrrvaGr    68\n",
              "PrarePa    63\n",
              "Sryalan    56\n",
              "Prtates    54\n",
              "GMown E    52\n",
              "           ..\n",
              "DSidePr     1\n",
              "SVhyaga     1\n",
              "SunetSo     1\n",
              "SRzonhu     1\n",
              "SrentAp     1\n",
              "Name: society, Length: 2688, dtype: int64"
            ]
          },
          "metadata": {
            "tags": []
          },
          "execution_count": 12
        }
      ]
    },
    {
      "cell_type": "code",
      "metadata": {
        "execution": {
          "iopub.execute_input": "2021-04-14T20:56:01.016536Z",
          "iopub.status.busy": "2021-04-14T20:56:01.015787Z",
          "iopub.status.idle": "2021-04-14T20:56:01.031660Z",
          "shell.execute_reply": "2021-04-14T20:56:01.031052Z"
        },
        "papermill": {
          "duration": 0.088483,
          "end_time": "2021-04-14T20:56:01.031841",
          "exception": false,
          "start_time": "2021-04-14T20:56:00.943358",
          "status": "completed"
        },
        "tags": [],
        "id": "precious-broadcast",
        "outputId": "d195ea2f-e7d4-4fb5-f77a-1b044f746ae6"
      },
      "source": [
        "df.head()"
      ],
      "id": "precious-broadcast",
      "execution_count": null,
      "outputs": [
        {
          "output_type": "execute_result",
          "data": {
            "text/html": [
              "<div>\n",
              "<style scoped>\n",
              "    .dataframe tbody tr th:only-of-type {\n",
              "        vertical-align: middle;\n",
              "    }\n",
              "\n",
              "    .dataframe tbody tr th {\n",
              "        vertical-align: top;\n",
              "    }\n",
              "\n",
              "    .dataframe thead th {\n",
              "        text-align: right;\n",
              "    }\n",
              "</style>\n",
              "<table border=\"1\" class=\"dataframe\">\n",
              "  <thead>\n",
              "    <tr style=\"text-align: right;\">\n",
              "      <th></th>\n",
              "      <th>area_type</th>\n",
              "      <th>availability</th>\n",
              "      <th>location</th>\n",
              "      <th>size</th>\n",
              "      <th>society</th>\n",
              "      <th>total_sqft</th>\n",
              "      <th>bath</th>\n",
              "      <th>balcony</th>\n",
              "      <th>price</th>\n",
              "    </tr>\n",
              "  </thead>\n",
              "  <tbody>\n",
              "    <tr>\n",
              "      <th>0</th>\n",
              "      <td>Super built-up  Area</td>\n",
              "      <td>19-Dec</td>\n",
              "      <td>Electronic City Phase II</td>\n",
              "      <td>2 BHK</td>\n",
              "      <td>Coomee</td>\n",
              "      <td>1056</td>\n",
              "      <td>2.0</td>\n",
              "      <td>1.0</td>\n",
              "      <td>39.07</td>\n",
              "    </tr>\n",
              "    <tr>\n",
              "      <th>1</th>\n",
              "      <td>Plot  Area</td>\n",
              "      <td>Ready To Move</td>\n",
              "      <td>Chikka Tirupathi</td>\n",
              "      <td>4 Bedroom</td>\n",
              "      <td>Theanmp</td>\n",
              "      <td>2600</td>\n",
              "      <td>5.0</td>\n",
              "      <td>3.0</td>\n",
              "      <td>120.00</td>\n",
              "    </tr>\n",
              "    <tr>\n",
              "      <th>2</th>\n",
              "      <td>Built-up  Area</td>\n",
              "      <td>Ready To Move</td>\n",
              "      <td>Uttarahalli</td>\n",
              "      <td>3 BHK</td>\n",
              "      <td>NaN</td>\n",
              "      <td>1440</td>\n",
              "      <td>2.0</td>\n",
              "      <td>3.0</td>\n",
              "      <td>62.00</td>\n",
              "    </tr>\n",
              "    <tr>\n",
              "      <th>3</th>\n",
              "      <td>Super built-up  Area</td>\n",
              "      <td>Ready To Move</td>\n",
              "      <td>Lingadheeranahalli</td>\n",
              "      <td>3 BHK</td>\n",
              "      <td>Soiewre</td>\n",
              "      <td>1521</td>\n",
              "      <td>3.0</td>\n",
              "      <td>1.0</td>\n",
              "      <td>95.00</td>\n",
              "    </tr>\n",
              "    <tr>\n",
              "      <th>4</th>\n",
              "      <td>Super built-up  Area</td>\n",
              "      <td>Ready To Move</td>\n",
              "      <td>Kothanur</td>\n",
              "      <td>2 BHK</td>\n",
              "      <td>NaN</td>\n",
              "      <td>1200</td>\n",
              "      <td>2.0</td>\n",
              "      <td>1.0</td>\n",
              "      <td>51.00</td>\n",
              "    </tr>\n",
              "  </tbody>\n",
              "</table>\n",
              "</div>"
            ],
            "text/plain": [
              "              area_type   availability                  location       size  \\\n",
              "0  Super built-up  Area         19-Dec  Electronic City Phase II      2 BHK   \n",
              "1            Plot  Area  Ready To Move          Chikka Tirupathi  4 Bedroom   \n",
              "2        Built-up  Area  Ready To Move               Uttarahalli      3 BHK   \n",
              "3  Super built-up  Area  Ready To Move        Lingadheeranahalli      3 BHK   \n",
              "4  Super built-up  Area  Ready To Move                  Kothanur      2 BHK   \n",
              "\n",
              "   society total_sqft  bath  balcony   price  \n",
              "0  Coomee        1056   2.0      1.0   39.07  \n",
              "1  Theanmp       2600   5.0      3.0  120.00  \n",
              "2      NaN       1440   2.0      3.0   62.00  \n",
              "3  Soiewre       1521   3.0      1.0   95.00  \n",
              "4      NaN       1200   2.0      1.0   51.00  "
            ]
          },
          "metadata": {
            "tags": []
          },
          "execution_count": 13
        }
      ]
    },
    {
      "cell_type": "code",
      "metadata": {
        "execution": {
          "iopub.execute_input": "2021-04-14T20:56:01.176328Z",
          "iopub.status.busy": "2021-04-14T20:56:01.175443Z",
          "iopub.status.idle": "2021-04-14T20:56:01.179763Z",
          "shell.execute_reply": "2021-04-14T20:56:01.180303Z"
        },
        "papermill": {
          "duration": 0.081929,
          "end_time": "2021-04-14T20:56:01.180511",
          "exception": false,
          "start_time": "2021-04-14T20:56:01.098582",
          "status": "completed"
        },
        "tags": [],
        "id": "chinese-sherman",
        "outputId": "c10267bb-fd05-4171-982f-f2c9a873604f"
      },
      "source": [
        "df['area_type'].value_counts()"
      ],
      "id": "chinese-sherman",
      "execution_count": null,
      "outputs": [
        {
          "output_type": "execute_result",
          "data": {
            "text/plain": [
              "Super built-up  Area    8317\n",
              "Built-up  Area          2398\n",
              "Plot  Area              1989\n",
              "Carpet  Area              87\n",
              "Name: area_type, dtype: int64"
            ]
          },
          "metadata": {
            "tags": []
          },
          "execution_count": 14
        }
      ]
    },
    {
      "cell_type": "code",
      "metadata": {
        "execution": {
          "iopub.execute_input": "2021-04-14T20:56:01.318675Z",
          "iopub.status.busy": "2021-04-14T20:56:01.317764Z",
          "iopub.status.idle": "2021-04-14T20:56:01.329661Z",
          "shell.execute_reply": "2021-04-14T20:56:01.330167Z"
        },
        "papermill": {
          "duration": 0.083593,
          "end_time": "2021-04-14T20:56:01.330379",
          "exception": false,
          "start_time": "2021-04-14T20:56:01.246786",
          "status": "completed"
        },
        "tags": [],
        "id": "liable-shelter",
        "outputId": "cf9fd7c1-a6b0-4d54-8bc4-8cebf35ab136"
      },
      "source": [
        "df['availability'].value_counts()"
      ],
      "id": "liable-shelter",
      "execution_count": null,
      "outputs": [
        {
          "output_type": "execute_result",
          "data": {
            "text/plain": [
              "Ready To Move    10172\n",
              "18-May             292\n",
              "18-Dec             284\n",
              "18-Apr             269\n",
              "18-Aug             187\n",
              "                 ...  \n",
              "14-Jul               1\n",
              "16-Jul               1\n",
              "15-Dec               1\n",
              "16-Jan               1\n",
              "16-Oct               1\n",
              "Name: availability, Length: 81, dtype: int64"
            ]
          },
          "metadata": {
            "tags": []
          },
          "execution_count": 15
        }
      ]
    },
    {
      "cell_type": "code",
      "metadata": {
        "execution": {
          "iopub.execute_input": "2021-04-14T20:56:01.484271Z",
          "iopub.status.busy": "2021-04-14T20:56:01.483484Z",
          "iopub.status.idle": "2021-04-14T20:56:01.491209Z",
          "shell.execute_reply": "2021-04-14T20:56:01.491798Z"
        },
        "papermill": {
          "duration": 0.094246,
          "end_time": "2021-04-14T20:56:01.492019",
          "exception": false,
          "start_time": "2021-04-14T20:56:01.397773",
          "status": "completed"
        },
        "tags": [],
        "id": "extra-cooperative",
        "outputId": "f5211490-0933-4b44-b301-fae6fd92d766"
      },
      "source": [
        "df['location'].value_counts()"
      ],
      "id": "extra-cooperative",
      "execution_count": null,
      "outputs": [
        {
          "output_type": "execute_result",
          "data": {
            "text/plain": [
              "Whitefield                           523\n",
              "Sarjapur  Road                       379\n",
              "Electronic City                      287\n",
              "Kanakpura Road                       249\n",
              "Thanisandra                          229\n",
              "                                    ... \n",
              "Beml layout, Rajarajeshwari nagar      1\n",
              " Basavangudi                           1\n",
              "Banashankari stage 2                   1\n",
              "Bharat Nagar                           1\n",
              "Chokkasandra                           1\n",
              "Name: location, Length: 1305, dtype: int64"
            ]
          },
          "metadata": {
            "tags": []
          },
          "execution_count": 16
        }
      ]
    },
    {
      "cell_type": "code",
      "metadata": {
        "execution": {
          "iopub.execute_input": "2021-04-14T20:56:01.652523Z",
          "iopub.status.busy": "2021-04-14T20:56:01.651808Z",
          "iopub.status.idle": "2021-04-14T20:56:01.664663Z",
          "shell.execute_reply": "2021-04-14T20:56:01.663916Z"
        },
        "papermill": {
          "duration": 0.08392,
          "end_time": "2021-04-14T20:56:01.664837",
          "exception": false,
          "start_time": "2021-04-14T20:56:01.580917",
          "status": "completed"
        },
        "tags": [],
        "id": "proof-government",
        "outputId": "357ff307-85f3-4d63-e19c-7969ec6c8d18"
      },
      "source": [
        "df['size'].value_counts()"
      ],
      "id": "proof-government",
      "execution_count": null,
      "outputs": [
        {
          "output_type": "execute_result",
          "data": {
            "text/plain": [
              "2 BHK         4931\n",
              "3 BHK         4120\n",
              "4 Bedroom      824\n",
              "4 BHK          574\n",
              "3 Bedroom      535\n",
              "1 BHK          521\n",
              "2 Bedroom      314\n",
              "5 Bedroom      291\n",
              "6 Bedroom      191\n",
              "1 Bedroom      104\n",
              "8 Bedroom       84\n",
              "7 Bedroom       82\n",
              "5 BHK           59\n",
              "9 Bedroom       46\n",
              "6 BHK           30\n",
              "7 BHK           17\n",
              "1 RK            13\n",
              "10 Bedroom      12\n",
              "9 BHK            8\n",
              "8 BHK            5\n",
              "11 BHK           2\n",
              "11 Bedroom       2\n",
              "10 BHK           2\n",
              "18 Bedroom       1\n",
              "13 BHK           1\n",
              "19 BHK           1\n",
              "43 Bedroom       1\n",
              "16 BHK           1\n",
              "27 BHK           1\n",
              "12 Bedroom       1\n",
              "14 BHK           1\n",
              "Name: size, dtype: int64"
            ]
          },
          "metadata": {
            "tags": []
          },
          "execution_count": 17
        }
      ]
    },
    {
      "cell_type": "code",
      "metadata": {
        "execution": {
          "iopub.execute_input": "2021-04-14T20:56:01.809792Z",
          "iopub.status.busy": "2021-04-14T20:56:01.809014Z",
          "iopub.status.idle": "2021-04-14T20:56:01.817023Z",
          "shell.execute_reply": "2021-04-14T20:56:01.817589Z"
        },
        "papermill": {
          "duration": 0.08562,
          "end_time": "2021-04-14T20:56:01.817822",
          "exception": false,
          "start_time": "2021-04-14T20:56:01.732202",
          "status": "completed"
        },
        "tags": [],
        "id": "configured-postage",
        "outputId": "1581ca1d-62ba-437e-e1f1-f27e24aaf82f"
      },
      "source": [
        "df.corr()['price']"
      ],
      "id": "configured-postage",
      "execution_count": null,
      "outputs": [
        {
          "output_type": "execute_result",
          "data": {
            "text/plain": [
              "bath       0.453099\n",
              "balcony    0.118645\n",
              "price      1.000000\n",
              "Name: price, dtype: float64"
            ]
          },
          "metadata": {
            "tags": []
          },
          "execution_count": 18
        }
      ]
    },
    {
      "cell_type": "code",
      "metadata": {
        "execution": {
          "iopub.execute_input": "2021-04-14T20:56:01.960233Z",
          "iopub.status.busy": "2021-04-14T20:56:01.959374Z",
          "iopub.status.idle": "2021-04-14T20:56:01.993230Z",
          "shell.execute_reply": "2021-04-14T20:56:01.992340Z"
        },
        "papermill": {
          "duration": 0.106875,
          "end_time": "2021-04-14T20:56:01.993409",
          "exception": false,
          "start_time": "2021-04-14T20:56:01.886534",
          "status": "completed"
        },
        "tags": [],
        "id": "thorough-worth"
      },
      "source": [
        "df.dropna(subset=['size','location','bath','balcony'],inplace=True)"
      ],
      "id": "thorough-worth",
      "execution_count": null,
      "outputs": []
    },
    {
      "cell_type": "code",
      "metadata": {
        "execution": {
          "iopub.execute_input": "2021-04-14T20:56:02.146376Z",
          "iopub.status.busy": "2021-04-14T20:56:02.145495Z",
          "iopub.status.idle": "2021-04-14T20:56:02.155322Z",
          "shell.execute_reply": "2021-04-14T20:56:02.154755Z"
        },
        "papermill": {
          "duration": 0.09252,
          "end_time": "2021-04-14T20:56:02.155493",
          "exception": false,
          "start_time": "2021-04-14T20:56:02.062973",
          "status": "completed"
        },
        "tags": [],
        "id": "protecting-tourism",
        "outputId": "92a2dfd8-10f4-420d-e7e5-31aa27106998"
      },
      "source": [
        "df.isnull().sum()"
      ],
      "id": "protecting-tourism",
      "execution_count": null,
      "outputs": [
        {
          "output_type": "execute_result",
          "data": {
            "text/plain": [
              "area_type          0\n",
              "availability       0\n",
              "location           0\n",
              "size               0\n",
              "society         5041\n",
              "total_sqft         0\n",
              "bath               0\n",
              "balcony            0\n",
              "price              0\n",
              "dtype: int64"
            ]
          },
          "metadata": {
            "tags": []
          },
          "execution_count": 20
        }
      ]
    },
    {
      "cell_type": "code",
      "metadata": {
        "execution": {
          "iopub.execute_input": "2021-04-14T20:56:02.313977Z",
          "iopub.status.busy": "2021-04-14T20:56:02.312796Z",
          "iopub.status.idle": "2021-04-14T20:56:02.318314Z",
          "shell.execute_reply": "2021-04-14T20:56:02.318856Z"
        },
        "papermill": {
          "duration": 0.093783,
          "end_time": "2021-04-14T20:56:02.319087",
          "exception": false,
          "start_time": "2021-04-14T20:56:02.225304",
          "status": "completed"
        },
        "tags": [],
        "id": "unusual-render",
        "outputId": "14c2a1e2-15ce-4832-8a40-ac6fd76f7604"
      },
      "source": [
        "df.head()"
      ],
      "id": "unusual-render",
      "execution_count": null,
      "outputs": [
        {
          "output_type": "execute_result",
          "data": {
            "text/html": [
              "<div>\n",
              "<style scoped>\n",
              "    .dataframe tbody tr th:only-of-type {\n",
              "        vertical-align: middle;\n",
              "    }\n",
              "\n",
              "    .dataframe tbody tr th {\n",
              "        vertical-align: top;\n",
              "    }\n",
              "\n",
              "    .dataframe thead th {\n",
              "        text-align: right;\n",
              "    }\n",
              "</style>\n",
              "<table border=\"1\" class=\"dataframe\">\n",
              "  <thead>\n",
              "    <tr style=\"text-align: right;\">\n",
              "      <th></th>\n",
              "      <th>area_type</th>\n",
              "      <th>availability</th>\n",
              "      <th>location</th>\n",
              "      <th>size</th>\n",
              "      <th>society</th>\n",
              "      <th>total_sqft</th>\n",
              "      <th>bath</th>\n",
              "      <th>balcony</th>\n",
              "      <th>price</th>\n",
              "    </tr>\n",
              "  </thead>\n",
              "  <tbody>\n",
              "    <tr>\n",
              "      <th>0</th>\n",
              "      <td>Super built-up  Area</td>\n",
              "      <td>19-Dec</td>\n",
              "      <td>Electronic City Phase II</td>\n",
              "      <td>2 BHK</td>\n",
              "      <td>Coomee</td>\n",
              "      <td>1056</td>\n",
              "      <td>2.0</td>\n",
              "      <td>1.0</td>\n",
              "      <td>39.07</td>\n",
              "    </tr>\n",
              "    <tr>\n",
              "      <th>1</th>\n",
              "      <td>Plot  Area</td>\n",
              "      <td>Ready To Move</td>\n",
              "      <td>Chikka Tirupathi</td>\n",
              "      <td>4 Bedroom</td>\n",
              "      <td>Theanmp</td>\n",
              "      <td>2600</td>\n",
              "      <td>5.0</td>\n",
              "      <td>3.0</td>\n",
              "      <td>120.00</td>\n",
              "    </tr>\n",
              "    <tr>\n",
              "      <th>2</th>\n",
              "      <td>Built-up  Area</td>\n",
              "      <td>Ready To Move</td>\n",
              "      <td>Uttarahalli</td>\n",
              "      <td>3 BHK</td>\n",
              "      <td>NaN</td>\n",
              "      <td>1440</td>\n",
              "      <td>2.0</td>\n",
              "      <td>3.0</td>\n",
              "      <td>62.00</td>\n",
              "    </tr>\n",
              "    <tr>\n",
              "      <th>3</th>\n",
              "      <td>Super built-up  Area</td>\n",
              "      <td>Ready To Move</td>\n",
              "      <td>Lingadheeranahalli</td>\n",
              "      <td>3 BHK</td>\n",
              "      <td>Soiewre</td>\n",
              "      <td>1521</td>\n",
              "      <td>3.0</td>\n",
              "      <td>1.0</td>\n",
              "      <td>95.00</td>\n",
              "    </tr>\n",
              "    <tr>\n",
              "      <th>4</th>\n",
              "      <td>Super built-up  Area</td>\n",
              "      <td>Ready To Move</td>\n",
              "      <td>Kothanur</td>\n",
              "      <td>2 BHK</td>\n",
              "      <td>NaN</td>\n",
              "      <td>1200</td>\n",
              "      <td>2.0</td>\n",
              "      <td>1.0</td>\n",
              "      <td>51.00</td>\n",
              "    </tr>\n",
              "  </tbody>\n",
              "</table>\n",
              "</div>"
            ],
            "text/plain": [
              "              area_type   availability                  location       size  \\\n",
              "0  Super built-up  Area         19-Dec  Electronic City Phase II      2 BHK   \n",
              "1            Plot  Area  Ready To Move          Chikka Tirupathi  4 Bedroom   \n",
              "2        Built-up  Area  Ready To Move               Uttarahalli      3 BHK   \n",
              "3  Super built-up  Area  Ready To Move        Lingadheeranahalli      3 BHK   \n",
              "4  Super built-up  Area  Ready To Move                  Kothanur      2 BHK   \n",
              "\n",
              "   society total_sqft  bath  balcony   price  \n",
              "0  Coomee        1056   2.0      1.0   39.07  \n",
              "1  Theanmp       2600   5.0      3.0  120.00  \n",
              "2      NaN       1440   2.0      3.0   62.00  \n",
              "3  Soiewre       1521   3.0      1.0   95.00  \n",
              "4      NaN       1200   2.0      1.0   51.00  "
            ]
          },
          "metadata": {
            "tags": []
          },
          "execution_count": 21
        }
      ]
    },
    {
      "cell_type": "code",
      "metadata": {
        "execution": {
          "iopub.execute_input": "2021-04-14T20:56:02.470612Z",
          "iopub.status.busy": "2021-04-14T20:56:02.464560Z",
          "iopub.status.idle": "2021-04-14T20:56:02.473486Z",
          "shell.execute_reply": "2021-04-14T20:56:02.474070Z"
        },
        "papermill": {
          "duration": 0.08495,
          "end_time": "2021-04-14T20:56:02.474298",
          "exception": false,
          "start_time": "2021-04-14T20:56:02.389348",
          "status": "completed"
        },
        "tags": [],
        "id": "hourly-perry"
      },
      "source": [
        "df['size']=df['size'].apply(lambda x:x.split()[0])"
      ],
      "id": "hourly-perry",
      "execution_count": null,
      "outputs": []
    },
    {
      "cell_type": "code",
      "metadata": {
        "execution": {
          "iopub.execute_input": "2021-04-14T20:56:02.619176Z",
          "iopub.status.busy": "2021-04-14T20:56:02.618376Z",
          "iopub.status.idle": "2021-04-14T20:56:02.628067Z",
          "shell.execute_reply": "2021-04-14T20:56:02.628664Z"
        },
        "papermill": {
          "duration": 0.0837,
          "end_time": "2021-04-14T20:56:02.628903",
          "exception": false,
          "start_time": "2021-04-14T20:56:02.545203",
          "status": "completed"
        },
        "tags": [],
        "id": "living-winner"
      },
      "source": [
        "df['size']=df['size'].astype('float')\n",
        "df['bath']=df['bath'].astype('float')\n",
        "df['balcony']=df['balcony'].astype('float')\n"
      ],
      "id": "living-winner",
      "execution_count": null,
      "outputs": []
    },
    {
      "cell_type": "code",
      "metadata": {
        "execution": {
          "iopub.execute_input": "2021-04-14T20:56:02.774186Z",
          "iopub.status.busy": "2021-04-14T20:56:02.773358Z",
          "iopub.status.idle": "2021-04-14T20:56:02.783354Z",
          "shell.execute_reply": "2021-04-14T20:56:02.782787Z"
        },
        "papermill": {
          "duration": 0.084498,
          "end_time": "2021-04-14T20:56:02.783509",
          "exception": false,
          "start_time": "2021-04-14T20:56:02.699011",
          "status": "completed"
        },
        "tags": [],
        "id": "dirty-korean",
        "outputId": "69a418c4-11f0-48b3-df0c-094227971ab8"
      },
      "source": [
        "df.corr()['price']\n"
      ],
      "id": "dirty-korean",
      "execution_count": null,
      "outputs": [
        {
          "output_type": "execute_result",
          "data": {
            "text/plain": [
              "size       0.403773\n",
              "bath       0.456304\n",
              "balcony    0.118653\n",
              "price      1.000000\n",
              "Name: price, dtype: float64"
            ]
          },
          "metadata": {
            "tags": []
          },
          "execution_count": 24
        }
      ]
    },
    {
      "cell_type": "code",
      "metadata": {
        "execution": {
          "iopub.execute_input": "2021-04-14T20:56:02.944056Z",
          "iopub.status.busy": "2021-04-14T20:56:02.942677Z",
          "iopub.status.idle": "2021-04-14T20:56:02.947278Z",
          "shell.execute_reply": "2021-04-14T20:56:02.947835Z"
        },
        "papermill": {
          "duration": 0.09345,
          "end_time": "2021-04-14T20:56:02.948076",
          "exception": false,
          "start_time": "2021-04-14T20:56:02.854626",
          "status": "completed"
        },
        "tags": [],
        "id": "listed-convertible",
        "outputId": "0c038979-f9fc-466f-ec94-f210bb75db54"
      },
      "source": [
        "df.head()"
      ],
      "id": "listed-convertible",
      "execution_count": null,
      "outputs": [
        {
          "output_type": "execute_result",
          "data": {
            "text/html": [
              "<div>\n",
              "<style scoped>\n",
              "    .dataframe tbody tr th:only-of-type {\n",
              "        vertical-align: middle;\n",
              "    }\n",
              "\n",
              "    .dataframe tbody tr th {\n",
              "        vertical-align: top;\n",
              "    }\n",
              "\n",
              "    .dataframe thead th {\n",
              "        text-align: right;\n",
              "    }\n",
              "</style>\n",
              "<table border=\"1\" class=\"dataframe\">\n",
              "  <thead>\n",
              "    <tr style=\"text-align: right;\">\n",
              "      <th></th>\n",
              "      <th>area_type</th>\n",
              "      <th>availability</th>\n",
              "      <th>location</th>\n",
              "      <th>size</th>\n",
              "      <th>society</th>\n",
              "      <th>total_sqft</th>\n",
              "      <th>bath</th>\n",
              "      <th>balcony</th>\n",
              "      <th>price</th>\n",
              "    </tr>\n",
              "  </thead>\n",
              "  <tbody>\n",
              "    <tr>\n",
              "      <th>0</th>\n",
              "      <td>Super built-up  Area</td>\n",
              "      <td>19-Dec</td>\n",
              "      <td>Electronic City Phase II</td>\n",
              "      <td>2.0</td>\n",
              "      <td>Coomee</td>\n",
              "      <td>1056</td>\n",
              "      <td>2.0</td>\n",
              "      <td>1.0</td>\n",
              "      <td>39.07</td>\n",
              "    </tr>\n",
              "    <tr>\n",
              "      <th>1</th>\n",
              "      <td>Plot  Area</td>\n",
              "      <td>Ready To Move</td>\n",
              "      <td>Chikka Tirupathi</td>\n",
              "      <td>4.0</td>\n",
              "      <td>Theanmp</td>\n",
              "      <td>2600</td>\n",
              "      <td>5.0</td>\n",
              "      <td>3.0</td>\n",
              "      <td>120.00</td>\n",
              "    </tr>\n",
              "    <tr>\n",
              "      <th>2</th>\n",
              "      <td>Built-up  Area</td>\n",
              "      <td>Ready To Move</td>\n",
              "      <td>Uttarahalli</td>\n",
              "      <td>3.0</td>\n",
              "      <td>NaN</td>\n",
              "      <td>1440</td>\n",
              "      <td>2.0</td>\n",
              "      <td>3.0</td>\n",
              "      <td>62.00</td>\n",
              "    </tr>\n",
              "    <tr>\n",
              "      <th>3</th>\n",
              "      <td>Super built-up  Area</td>\n",
              "      <td>Ready To Move</td>\n",
              "      <td>Lingadheeranahalli</td>\n",
              "      <td>3.0</td>\n",
              "      <td>Soiewre</td>\n",
              "      <td>1521</td>\n",
              "      <td>3.0</td>\n",
              "      <td>1.0</td>\n",
              "      <td>95.00</td>\n",
              "    </tr>\n",
              "    <tr>\n",
              "      <th>4</th>\n",
              "      <td>Super built-up  Area</td>\n",
              "      <td>Ready To Move</td>\n",
              "      <td>Kothanur</td>\n",
              "      <td>2.0</td>\n",
              "      <td>NaN</td>\n",
              "      <td>1200</td>\n",
              "      <td>2.0</td>\n",
              "      <td>1.0</td>\n",
              "      <td>51.00</td>\n",
              "    </tr>\n",
              "  </tbody>\n",
              "</table>\n",
              "</div>"
            ],
            "text/plain": [
              "              area_type   availability                  location  size  \\\n",
              "0  Super built-up  Area         19-Dec  Electronic City Phase II   2.0   \n",
              "1            Plot  Area  Ready To Move          Chikka Tirupathi   4.0   \n",
              "2        Built-up  Area  Ready To Move               Uttarahalli   3.0   \n",
              "3  Super built-up  Area  Ready To Move        Lingadheeranahalli   3.0   \n",
              "4  Super built-up  Area  Ready To Move                  Kothanur   2.0   \n",
              "\n",
              "   society total_sqft  bath  balcony   price  \n",
              "0  Coomee        1056   2.0      1.0   39.07  \n",
              "1  Theanmp       2600   5.0      3.0  120.00  \n",
              "2      NaN       1440   2.0      3.0   62.00  \n",
              "3  Soiewre       1521   3.0      1.0   95.00  \n",
              "4      NaN       1200   2.0      1.0   51.00  "
            ]
          },
          "metadata": {
            "tags": []
          },
          "execution_count": 25
        }
      ]
    },
    {
      "cell_type": "code",
      "metadata": {
        "execution": {
          "iopub.execute_input": "2021-04-14T20:56:03.095186Z",
          "iopub.status.busy": "2021-04-14T20:56:03.094119Z",
          "iopub.status.idle": "2021-04-14T20:56:03.102832Z",
          "shell.execute_reply": "2021-04-14T20:56:03.103325Z"
        },
        "papermill": {
          "duration": 0.084284,
          "end_time": "2021-04-14T20:56:03.103536",
          "exception": false,
          "start_time": "2021-04-14T20:56:03.019252",
          "status": "completed"
        },
        "tags": [],
        "id": "statistical-membrane",
        "outputId": "e3428bd8-333c-433c-b0d8-7b1c10aa857a"
      },
      "source": [
        "df['location'].unique()"
      ],
      "id": "statistical-membrane",
      "execution_count": null,
      "outputs": [
        {
          "output_type": "execute_result",
          "data": {
            "text/plain": [
              "array(['Electronic City Phase II', 'Chikka Tirupathi', 'Uttarahalli', ...,\n",
              "       '12th cross srinivas nagar banshankari 3rd stage',\n",
              "       'Havanur extension', 'Abshot Layout'], dtype=object)"
            ]
          },
          "metadata": {
            "tags": []
          },
          "execution_count": 26
        }
      ]
    },
    {
      "cell_type": "code",
      "metadata": {
        "execution": {
          "iopub.execute_input": "2021-04-14T20:56:03.250692Z",
          "iopub.status.busy": "2021-04-14T20:56:03.249931Z",
          "iopub.status.idle": "2021-04-14T20:56:03.258902Z",
          "shell.execute_reply": "2021-04-14T20:56:03.258163Z"
        },
        "papermill": {
          "duration": 0.083657,
          "end_time": "2021-04-14T20:56:03.259066",
          "exception": false,
          "start_time": "2021-04-14T20:56:03.175409",
          "status": "completed"
        },
        "tags": [],
        "id": "confused-mailman",
        "outputId": "a9c90f82-9fc2-45f9-89c9-5a9c242794f8"
      },
      "source": [
        "df['size'].unique()"
      ],
      "id": "confused-mailman",
      "execution_count": null,
      "outputs": [
        {
          "output_type": "execute_result",
          "data": {
            "text/plain": [
              "array([ 2.,  4.,  3.,  1.,  6.,  8.,  7.,  5., 11.,  9., 27., 43., 14.,\n",
              "       12., 10., 13.])"
            ]
          },
          "metadata": {
            "tags": []
          },
          "execution_count": 27
        }
      ]
    },
    {
      "cell_type": "code",
      "metadata": {
        "execution": {
          "iopub.execute_input": "2021-04-14T20:56:03.413059Z",
          "iopub.status.busy": "2021-04-14T20:56:03.411996Z",
          "iopub.status.idle": "2021-04-14T20:56:03.416083Z",
          "shell.execute_reply": "2021-04-14T20:56:03.416598Z"
        },
        "papermill": {
          "duration": 0.085363,
          "end_time": "2021-04-14T20:56:03.416817",
          "exception": false,
          "start_time": "2021-04-14T20:56:03.331454",
          "status": "completed"
        },
        "tags": [],
        "id": "exclusive-tragedy",
        "outputId": "f4d1ed96-07c8-4c29-c6ac-634ac0f492a7"
      },
      "source": [
        "df['bath'].unique()\n"
      ],
      "id": "exclusive-tragedy",
      "execution_count": null,
      "outputs": [
        {
          "output_type": "execute_result",
          "data": {
            "text/plain": [
              "array([ 2.,  5.,  3.,  4.,  1.,  8.,  7.,  6.,  9., 27., 11., 12., 10.,\n",
              "       40., 15., 13.])"
            ]
          },
          "metadata": {
            "tags": []
          },
          "execution_count": 28
        }
      ]
    },
    {
      "cell_type": "code",
      "metadata": {
        "execution": {
          "iopub.execute_input": "2021-04-14T20:56:03.570504Z",
          "iopub.status.busy": "2021-04-14T20:56:03.569538Z",
          "iopub.status.idle": "2021-04-14T20:56:03.577037Z",
          "shell.execute_reply": "2021-04-14T20:56:03.577583Z"
        },
        "papermill": {
          "duration": 0.08611,
          "end_time": "2021-04-14T20:56:03.577842",
          "exception": false,
          "start_time": "2021-04-14T20:56:03.491732",
          "status": "completed"
        },
        "tags": [],
        "id": "finished-complex"
      },
      "source": [
        "df.drop(columns=['availability','society'],inplace=True)"
      ],
      "id": "finished-complex",
      "execution_count": null,
      "outputs": []
    },
    {
      "cell_type": "code",
      "metadata": {
        "execution": {
          "iopub.execute_input": "2021-04-14T20:56:03.742088Z",
          "iopub.status.busy": "2021-04-14T20:56:03.741286Z",
          "iopub.status.idle": "2021-04-14T20:56:03.744874Z",
          "shell.execute_reply": "2021-04-14T20:56:03.745376Z"
        },
        "papermill": {
          "duration": 0.093243,
          "end_time": "2021-04-14T20:56:03.745574",
          "exception": false,
          "start_time": "2021-04-14T20:56:03.652331",
          "status": "completed"
        },
        "tags": [],
        "id": "knowing-ladder",
        "outputId": "09e911c0-d6f0-41b1-ab0b-677aca976272"
      },
      "source": [
        "df.head()"
      ],
      "id": "knowing-ladder",
      "execution_count": null,
      "outputs": [
        {
          "output_type": "execute_result",
          "data": {
            "text/html": [
              "<div>\n",
              "<style scoped>\n",
              "    .dataframe tbody tr th:only-of-type {\n",
              "        vertical-align: middle;\n",
              "    }\n",
              "\n",
              "    .dataframe tbody tr th {\n",
              "        vertical-align: top;\n",
              "    }\n",
              "\n",
              "    .dataframe thead th {\n",
              "        text-align: right;\n",
              "    }\n",
              "</style>\n",
              "<table border=\"1\" class=\"dataframe\">\n",
              "  <thead>\n",
              "    <tr style=\"text-align: right;\">\n",
              "      <th></th>\n",
              "      <th>area_type</th>\n",
              "      <th>location</th>\n",
              "      <th>size</th>\n",
              "      <th>total_sqft</th>\n",
              "      <th>bath</th>\n",
              "      <th>balcony</th>\n",
              "      <th>price</th>\n",
              "    </tr>\n",
              "  </thead>\n",
              "  <tbody>\n",
              "    <tr>\n",
              "      <th>0</th>\n",
              "      <td>Super built-up  Area</td>\n",
              "      <td>Electronic City Phase II</td>\n",
              "      <td>2.0</td>\n",
              "      <td>1056</td>\n",
              "      <td>2.0</td>\n",
              "      <td>1.0</td>\n",
              "      <td>39.07</td>\n",
              "    </tr>\n",
              "    <tr>\n",
              "      <th>1</th>\n",
              "      <td>Plot  Area</td>\n",
              "      <td>Chikka Tirupathi</td>\n",
              "      <td>4.0</td>\n",
              "      <td>2600</td>\n",
              "      <td>5.0</td>\n",
              "      <td>3.0</td>\n",
              "      <td>120.00</td>\n",
              "    </tr>\n",
              "    <tr>\n",
              "      <th>2</th>\n",
              "      <td>Built-up  Area</td>\n",
              "      <td>Uttarahalli</td>\n",
              "      <td>3.0</td>\n",
              "      <td>1440</td>\n",
              "      <td>2.0</td>\n",
              "      <td>3.0</td>\n",
              "      <td>62.00</td>\n",
              "    </tr>\n",
              "    <tr>\n",
              "      <th>3</th>\n",
              "      <td>Super built-up  Area</td>\n",
              "      <td>Lingadheeranahalli</td>\n",
              "      <td>3.0</td>\n",
              "      <td>1521</td>\n",
              "      <td>3.0</td>\n",
              "      <td>1.0</td>\n",
              "      <td>95.00</td>\n",
              "    </tr>\n",
              "    <tr>\n",
              "      <th>4</th>\n",
              "      <td>Super built-up  Area</td>\n",
              "      <td>Kothanur</td>\n",
              "      <td>2.0</td>\n",
              "      <td>1200</td>\n",
              "      <td>2.0</td>\n",
              "      <td>1.0</td>\n",
              "      <td>51.00</td>\n",
              "    </tr>\n",
              "  </tbody>\n",
              "</table>\n",
              "</div>"
            ],
            "text/plain": [
              "              area_type                  location  size total_sqft  bath  \\\n",
              "0  Super built-up  Area  Electronic City Phase II   2.0       1056   2.0   \n",
              "1            Plot  Area          Chikka Tirupathi   4.0       2600   5.0   \n",
              "2        Built-up  Area               Uttarahalli   3.0       1440   2.0   \n",
              "3  Super built-up  Area        Lingadheeranahalli   3.0       1521   3.0   \n",
              "4  Super built-up  Area                  Kothanur   2.0       1200   2.0   \n",
              "\n",
              "   balcony   price  \n",
              "0      1.0   39.07  \n",
              "1      3.0  120.00  \n",
              "2      3.0   62.00  \n",
              "3      1.0   95.00  \n",
              "4      1.0   51.00  "
            ]
          },
          "metadata": {
            "tags": []
          },
          "execution_count": 30
        }
      ]
    },
    {
      "cell_type": "code",
      "metadata": {
        "execution": {
          "iopub.execute_input": "2021-04-14T20:56:03.899115Z",
          "iopub.status.busy": "2021-04-14T20:56:03.898272Z",
          "iopub.status.idle": "2021-04-14T20:56:03.909532Z",
          "shell.execute_reply": "2021-04-14T20:56:03.910123Z"
        },
        "papermill": {
          "duration": 0.089676,
          "end_time": "2021-04-14T20:56:03.910357",
          "exception": false,
          "start_time": "2021-04-14T20:56:03.820681",
          "status": "completed"
        },
        "tags": [],
        "id": "breathing-fluid"
      },
      "source": [
        "df['total_sqft']=df['total_sqft'].apply(lambda x:x.splitlines()[0])"
      ],
      "id": "breathing-fluid",
      "execution_count": null,
      "outputs": []
    },
    {
      "cell_type": "code",
      "metadata": {
        "execution": {
          "iopub.execute_input": "2021-04-14T20:56:04.063916Z",
          "iopub.status.busy": "2021-04-14T20:56:04.063136Z",
          "iopub.status.idle": "2021-04-14T20:56:04.066619Z",
          "shell.execute_reply": "2021-04-14T20:56:04.065946Z"
        },
        "papermill": {
          "duration": 0.083083,
          "end_time": "2021-04-14T20:56:04.066822",
          "exception": false,
          "start_time": "2021-04-14T20:56:03.983739",
          "status": "completed"
        },
        "tags": [],
        "id": "mexican-blocking"
      },
      "source": [
        "import re as re"
      ],
      "id": "mexican-blocking",
      "execution_count": null,
      "outputs": []
    },
    {
      "cell_type": "code",
      "metadata": {
        "execution": {
          "iopub.execute_input": "2021-04-14T20:56:04.246852Z",
          "iopub.status.busy": "2021-04-14T20:56:04.228845Z",
          "iopub.status.idle": "2021-04-14T20:56:04.250465Z",
          "shell.execute_reply": "2021-04-14T20:56:04.251240Z"
        },
        "papermill": {
          "duration": 0.110108,
          "end_time": "2021-04-14T20:56:04.251461",
          "exception": false,
          "start_time": "2021-04-14T20:56:04.141353",
          "status": "completed"
        },
        "tags": [],
        "id": "intimate-kernel"
      },
      "source": [
        "def find_number(text):\n",
        "    num = re.findall(r'[0-9]+',text)\n",
        "    return \" \".join(num)\n",
        "df['total_sqft']=df['total_sqft'].apply(lambda x: find_number(x))"
      ],
      "id": "intimate-kernel",
      "execution_count": null,
      "outputs": []
    },
    {
      "cell_type": "code",
      "metadata": {
        "execution": {
          "iopub.execute_input": "2021-04-14T20:56:04.403523Z",
          "iopub.status.busy": "2021-04-14T20:56:04.402405Z",
          "iopub.status.idle": "2021-04-14T20:56:04.415162Z",
          "shell.execute_reply": "2021-04-14T20:56:04.414254Z"
        },
        "papermill": {
          "duration": 0.089793,
          "end_time": "2021-04-14T20:56:04.415339",
          "exception": false,
          "start_time": "2021-04-14T20:56:04.325546",
          "status": "completed"
        },
        "tags": [],
        "id": "registered-vinyl"
      },
      "source": [
        "df['total_sqft']=df['total_sqft'].apply(lambda x:x.split()[0])"
      ],
      "id": "registered-vinyl",
      "execution_count": null,
      "outputs": []
    },
    {
      "cell_type": "code",
      "metadata": {
        "execution": {
          "iopub.execute_input": "2021-04-14T20:56:04.576074Z",
          "iopub.status.busy": "2021-04-14T20:56:04.574566Z",
          "iopub.status.idle": "2021-04-14T20:56:04.583067Z",
          "shell.execute_reply": "2021-04-14T20:56:04.582390Z"
        },
        "papermill": {
          "duration": 0.094346,
          "end_time": "2021-04-14T20:56:04.583237",
          "exception": false,
          "start_time": "2021-04-14T20:56:04.488891",
          "status": "completed"
        },
        "tags": [],
        "id": "liable-convertible",
        "outputId": "bbed8a41-89a2-4901-b608-7e8d59686e23"
      },
      "source": [
        "df['total_sqft'].value_counts()"
      ],
      "id": "liable-convertible",
      "execution_count": null,
      "outputs": [
        {
          "output_type": "execute_result",
          "data": {
            "text/plain": [
              "1200    754\n",
              "1100    208\n",
              "1500    197\n",
              "2400    178\n",
              "600     170\n",
              "       ... \n",
              "2302      1\n",
              "3080      1\n",
              "881       1\n",
              "1831      1\n",
              "4209      1\n",
              "Name: total_sqft, Length: 1790, dtype: int64"
            ]
          },
          "metadata": {
            "tags": []
          },
          "execution_count": 35
        }
      ]
    },
    {
      "cell_type": "code",
      "metadata": {
        "execution": {
          "iopub.execute_input": "2021-04-14T20:56:04.738193Z",
          "iopub.status.busy": "2021-04-14T20:56:04.737388Z",
          "iopub.status.idle": "2021-04-14T20:56:04.744902Z",
          "shell.execute_reply": "2021-04-14T20:56:04.745579Z"
        },
        "papermill": {
          "duration": 0.087034,
          "end_time": "2021-04-14T20:56:04.745818",
          "exception": false,
          "start_time": "2021-04-14T20:56:04.658784",
          "status": "completed"
        },
        "tags": [],
        "id": "palestinian-alert"
      },
      "source": [
        "df['total_sqft']=df['total_sqft'].astype('float')"
      ],
      "id": "palestinian-alert",
      "execution_count": null,
      "outputs": []
    },
    {
      "cell_type": "code",
      "metadata": {
        "execution": {
          "iopub.execute_input": "2021-04-14T20:56:04.901179Z",
          "iopub.status.busy": "2021-04-14T20:56:04.900414Z",
          "iopub.status.idle": "2021-04-14T20:56:04.911857Z",
          "shell.execute_reply": "2021-04-14T20:56:04.911217Z"
        },
        "papermill": {
          "duration": 0.090536,
          "end_time": "2021-04-14T20:56:04.912026",
          "exception": false,
          "start_time": "2021-04-14T20:56:04.821490",
          "status": "completed"
        },
        "tags": [],
        "id": "southeast-comment",
        "outputId": "2b815490-c0de-4059-e0f9-22007375dd71"
      },
      "source": [
        "df.corr()['price']"
      ],
      "id": "southeast-comment",
      "execution_count": null,
      "outputs": [
        {
          "output_type": "execute_result",
          "data": {
            "text/plain": [
              "size          0.403773\n",
              "total_sqft    0.554139\n",
              "bath          0.456304\n",
              "balcony       0.118653\n",
              "price         1.000000\n",
              "Name: price, dtype: float64"
            ]
          },
          "metadata": {
            "tags": []
          },
          "execution_count": 37
        }
      ]
    },
    {
      "cell_type": "code",
      "metadata": {
        "execution": {
          "iopub.execute_input": "2021-04-14T20:56:05.073402Z",
          "iopub.status.busy": "2021-04-14T20:56:05.070154Z",
          "iopub.status.idle": "2021-04-14T20:56:05.078269Z",
          "shell.execute_reply": "2021-04-14T20:56:05.077670Z"
        },
        "papermill": {
          "duration": 0.090178,
          "end_time": "2021-04-14T20:56:05.078432",
          "exception": false,
          "start_time": "2021-04-14T20:56:04.988254",
          "status": "completed"
        },
        "tags": [],
        "id": "diverse-panic",
        "outputId": "dcadb7af-c36a-4fbe-9951-973abed892bb"
      },
      "source": [
        "df['balcony'].value_counts()"
      ],
      "id": "diverse-panic",
      "execution_count": null,
      "outputs": [
        {
          "output_type": "execute_result",
          "data": {
            "text/plain": [
              "2.0    4845\n",
              "1.0    4700\n",
              "3.0    1630\n",
              "0.0    1010\n",
              "Name: balcony, dtype: int64"
            ]
          },
          "metadata": {
            "tags": []
          },
          "execution_count": 38
        }
      ]
    },
    {
      "cell_type": "code",
      "metadata": {
        "execution": {
          "iopub.execute_input": "2021-04-14T20:56:05.237063Z",
          "iopub.status.busy": "2021-04-14T20:56:05.236017Z",
          "iopub.status.idle": "2021-04-14T20:56:05.243541Z",
          "shell.execute_reply": "2021-04-14T20:56:05.244020Z"
        },
        "papermill": {
          "duration": 0.090459,
          "end_time": "2021-04-14T20:56:05.244225",
          "exception": false,
          "start_time": "2021-04-14T20:56:05.153766",
          "status": "completed"
        },
        "tags": [],
        "id": "laughing-leather",
        "outputId": "93dca003-c6dd-400f-ac56-921775136905"
      },
      "source": [
        "df['bath'].value_counts()"
      ],
      "id": "laughing-leather",
      "execution_count": null,
      "outputs": [
        {
          "output_type": "execute_result",
          "data": {
            "text/plain": [
              "2.0     6472\n",
              "3.0     3042\n",
              "4.0     1080\n",
              "1.0      760\n",
              "5.0      427\n",
              "6.0      242\n",
              "7.0       82\n",
              "8.0       42\n",
              "9.0       26\n",
              "10.0       6\n",
              "15.0       1\n",
              "40.0       1\n",
              "11.0       1\n",
              "12.0       1\n",
              "13.0       1\n",
              "27.0       1\n",
              "Name: bath, dtype: int64"
            ]
          },
          "metadata": {
            "tags": []
          },
          "execution_count": 39
        }
      ]
    },
    {
      "cell_type": "code",
      "metadata": {
        "execution": {
          "iopub.execute_input": "2021-04-14T20:56:05.400690Z",
          "iopub.status.busy": "2021-04-14T20:56:05.399674Z",
          "iopub.status.idle": "2021-04-14T20:56:05.405476Z",
          "shell.execute_reply": "2021-04-14T20:56:05.405975Z"
        },
        "papermill": {
          "duration": 0.086338,
          "end_time": "2021-04-14T20:56:05.406186",
          "exception": false,
          "start_time": "2021-04-14T20:56:05.319848",
          "status": "completed"
        },
        "tags": [],
        "id": "dynamic-estimate",
        "outputId": "42677306-ea91-42c8-bd7f-cefbf4e9a401"
      },
      "source": [
        "df.shape"
      ],
      "id": "dynamic-estimate",
      "execution_count": null,
      "outputs": [
        {
          "output_type": "execute_result",
          "data": {
            "text/plain": [
              "(12185, 7)"
            ]
          },
          "metadata": {
            "tags": []
          },
          "execution_count": 40
        }
      ]
    },
    {
      "cell_type": "code",
      "metadata": {
        "execution": {
          "iopub.execute_input": "2021-04-14T20:56:05.562289Z",
          "iopub.status.busy": "2021-04-14T20:56:05.561234Z",
          "iopub.status.idle": "2021-04-14T20:56:05.574164Z",
          "shell.execute_reply": "2021-04-14T20:56:05.573424Z"
        },
        "papermill": {
          "duration": 0.092251,
          "end_time": "2021-04-14T20:56:05.574328",
          "exception": false,
          "start_time": "2021-04-14T20:56:05.482077",
          "status": "completed"
        },
        "tags": [],
        "id": "subtle-corrections",
        "outputId": "b17f286f-ab6d-4965-dcfb-d879a97e6e03"
      },
      "source": [
        "df.isnull().sum()"
      ],
      "id": "subtle-corrections",
      "execution_count": null,
      "outputs": [
        {
          "output_type": "execute_result",
          "data": {
            "text/plain": [
              "area_type     0\n",
              "location      0\n",
              "size          0\n",
              "total_sqft    0\n",
              "bath          0\n",
              "balcony       0\n",
              "price         0\n",
              "dtype: int64"
            ]
          },
          "metadata": {
            "tags": []
          },
          "execution_count": 41
        }
      ]
    },
    {
      "cell_type": "code",
      "metadata": {
        "execution": {
          "iopub.execute_input": "2021-04-14T20:56:05.741444Z",
          "iopub.status.busy": "2021-04-14T20:56:05.740627Z",
          "iopub.status.idle": "2021-04-14T20:56:05.744841Z",
          "shell.execute_reply": "2021-04-14T20:56:05.744309Z"
        },
        "papermill": {
          "duration": 0.09469,
          "end_time": "2021-04-14T20:56:05.745008",
          "exception": false,
          "start_time": "2021-04-14T20:56:05.650318",
          "status": "completed"
        },
        "tags": [],
        "id": "dried-husband"
      },
      "source": [
        "df['location']=df['location'].apply(lambda x: x.strip())\n",
        "location_count=df['location'].value_counts()"
      ],
      "id": "dried-husband",
      "execution_count": null,
      "outputs": []
    },
    {
      "cell_type": "code",
      "metadata": {
        "execution": {
          "iopub.execute_input": "2021-04-14T20:56:05.904429Z",
          "iopub.status.busy": "2021-04-14T20:56:05.903630Z",
          "iopub.status.idle": "2021-04-14T20:56:05.913424Z",
          "shell.execute_reply": "2021-04-14T20:56:05.912810Z"
        },
        "papermill": {
          "duration": 0.091299,
          "end_time": "2021-04-14T20:56:05.913589",
          "exception": false,
          "start_time": "2021-04-14T20:56:05.822290",
          "status": "completed"
        },
        "tags": [],
        "id": "personalized-concentration",
        "outputId": "32e4b0c8-3c06-46a8-eb5a-10c5bbde0555"
      },
      "source": [
        "location_count_less_10= location_count[location_count<=10]\n",
        "location_count_less_10"
      ],
      "id": "personalized-concentration",
      "execution_count": null,
      "outputs": [
        {
          "output_type": "execute_result",
          "data": {
            "text/plain": [
              "Dairy Circle             10\n",
              "Doddakallasandra         10\n",
              "Kalkere                  10\n",
              "HAL 2nd Stage            10\n",
              "Narayanapura             10\n",
              "                         ..\n",
              "Chokkahalli               1\n",
              "Lakkasandra Extension     1\n",
              "kanakapura main road      1\n",
              "Okalipura                 1\n",
              "NTI Layout                1\n",
              "Name: location, Length: 1027, dtype: int64"
            ]
          },
          "metadata": {
            "tags": []
          },
          "execution_count": 43
        }
      ]
    },
    {
      "cell_type": "code",
      "metadata": {
        "execution": {
          "iopub.execute_input": "2021-04-14T20:56:06.092154Z",
          "iopub.status.busy": "2021-04-14T20:56:06.086772Z",
          "iopub.status.idle": "2021-04-14T20:56:06.102132Z",
          "shell.execute_reply": "2021-04-14T20:56:06.101420Z"
        },
        "papermill": {
          "duration": 0.110393,
          "end_time": "2021-04-14T20:56:06.102308",
          "exception": false,
          "start_time": "2021-04-14T20:56:05.991915",
          "status": "completed"
        },
        "tags": [],
        "id": "stylish-rapid"
      },
      "source": [
        "df['location']=df['location'].apply(lambda x: 'other'if x in location_count_less_10 else x)"
      ],
      "id": "stylish-rapid",
      "execution_count": null,
      "outputs": []
    },
    {
      "cell_type": "code",
      "metadata": {
        "execution": {
          "iopub.execute_input": "2021-04-14T20:56:06.270412Z",
          "iopub.status.busy": "2021-04-14T20:56:06.269679Z",
          "iopub.status.idle": "2021-04-14T20:56:06.274527Z",
          "shell.execute_reply": "2021-04-14T20:56:06.273961Z"
        },
        "papermill": {
          "duration": 0.09467,
          "end_time": "2021-04-14T20:56:06.274718",
          "exception": false,
          "start_time": "2021-04-14T20:56:06.180048",
          "status": "completed"
        },
        "tags": [],
        "id": "difficult-infection",
        "outputId": "50afd57b-4023-4361-d52f-d92b8052d356"
      },
      "source": [
        "df['location'].value_counts()"
      ],
      "id": "difficult-infection",
      "execution_count": null,
      "outputs": [
        {
          "output_type": "execute_result",
          "data": {
            "text/plain": [
              "other                   2806\n",
              "Whitefield               498\n",
              "Sarjapur  Road           352\n",
              "Electronic City          287\n",
              "Kanakpura Road           238\n",
              "                        ... \n",
              "Nagasandra                11\n",
              "Karuna Nagar              11\n",
              "LB Shastri Nagar          11\n",
              "Prithvi Layout            11\n",
              "Vishveshwarya Layout      11\n",
              "Name: location, Length: 228, dtype: int64"
            ]
          },
          "metadata": {
            "tags": []
          },
          "execution_count": 45
        }
      ]
    },
    {
      "cell_type": "code",
      "metadata": {
        "execution": {
          "iopub.execute_input": "2021-04-14T20:56:06.448168Z",
          "iopub.status.busy": "2021-04-14T20:56:06.447408Z",
          "iopub.status.idle": "2021-04-14T20:56:06.450728Z",
          "shell.execute_reply": "2021-04-14T20:56:06.451394Z"
        },
        "papermill": {
          "duration": 0.099055,
          "end_time": "2021-04-14T20:56:06.451598",
          "exception": false,
          "start_time": "2021-04-14T20:56:06.352543",
          "status": "completed"
        },
        "tags": [],
        "id": "empty-notion",
        "outputId": "b154792c-b443-42e1-f708-0aeda275e512"
      },
      "source": [
        "df.head()"
      ],
      "id": "empty-notion",
      "execution_count": null,
      "outputs": [
        {
          "output_type": "execute_result",
          "data": {
            "text/html": [
              "<div>\n",
              "<style scoped>\n",
              "    .dataframe tbody tr th:only-of-type {\n",
              "        vertical-align: middle;\n",
              "    }\n",
              "\n",
              "    .dataframe tbody tr th {\n",
              "        vertical-align: top;\n",
              "    }\n",
              "\n",
              "    .dataframe thead th {\n",
              "        text-align: right;\n",
              "    }\n",
              "</style>\n",
              "<table border=\"1\" class=\"dataframe\">\n",
              "  <thead>\n",
              "    <tr style=\"text-align: right;\">\n",
              "      <th></th>\n",
              "      <th>area_type</th>\n",
              "      <th>location</th>\n",
              "      <th>size</th>\n",
              "      <th>total_sqft</th>\n",
              "      <th>bath</th>\n",
              "      <th>balcony</th>\n",
              "      <th>price</th>\n",
              "    </tr>\n",
              "  </thead>\n",
              "  <tbody>\n",
              "    <tr>\n",
              "      <th>0</th>\n",
              "      <td>Super built-up  Area</td>\n",
              "      <td>Electronic City Phase II</td>\n",
              "      <td>2.0</td>\n",
              "      <td>1056.0</td>\n",
              "      <td>2.0</td>\n",
              "      <td>1.0</td>\n",
              "      <td>39.07</td>\n",
              "    </tr>\n",
              "    <tr>\n",
              "      <th>1</th>\n",
              "      <td>Plot  Area</td>\n",
              "      <td>Chikka Tirupathi</td>\n",
              "      <td>4.0</td>\n",
              "      <td>2600.0</td>\n",
              "      <td>5.0</td>\n",
              "      <td>3.0</td>\n",
              "      <td>120.00</td>\n",
              "    </tr>\n",
              "    <tr>\n",
              "      <th>2</th>\n",
              "      <td>Built-up  Area</td>\n",
              "      <td>Uttarahalli</td>\n",
              "      <td>3.0</td>\n",
              "      <td>1440.0</td>\n",
              "      <td>2.0</td>\n",
              "      <td>3.0</td>\n",
              "      <td>62.00</td>\n",
              "    </tr>\n",
              "    <tr>\n",
              "      <th>3</th>\n",
              "      <td>Super built-up  Area</td>\n",
              "      <td>Lingadheeranahalli</td>\n",
              "      <td>3.0</td>\n",
              "      <td>1521.0</td>\n",
              "      <td>3.0</td>\n",
              "      <td>1.0</td>\n",
              "      <td>95.00</td>\n",
              "    </tr>\n",
              "    <tr>\n",
              "      <th>4</th>\n",
              "      <td>Super built-up  Area</td>\n",
              "      <td>Kothanur</td>\n",
              "      <td>2.0</td>\n",
              "      <td>1200.0</td>\n",
              "      <td>2.0</td>\n",
              "      <td>1.0</td>\n",
              "      <td>51.00</td>\n",
              "    </tr>\n",
              "  </tbody>\n",
              "</table>\n",
              "</div>"
            ],
            "text/plain": [
              "              area_type                  location  size  total_sqft  bath  \\\n",
              "0  Super built-up  Area  Electronic City Phase II   2.0      1056.0   2.0   \n",
              "1            Plot  Area          Chikka Tirupathi   4.0      2600.0   5.0   \n",
              "2        Built-up  Area               Uttarahalli   3.0      1440.0   2.0   \n",
              "3  Super built-up  Area        Lingadheeranahalli   3.0      1521.0   3.0   \n",
              "4  Super built-up  Area                  Kothanur   2.0      1200.0   2.0   \n",
              "\n",
              "   balcony   price  \n",
              "0      1.0   39.07  \n",
              "1      3.0  120.00  \n",
              "2      3.0   62.00  \n",
              "3      1.0   95.00  \n",
              "4      1.0   51.00  "
            ]
          },
          "metadata": {
            "tags": []
          },
          "execution_count": 46
        }
      ]
    },
    {
      "cell_type": "code",
      "metadata": {
        "execution": {
          "iopub.execute_input": "2021-04-14T20:56:06.613209Z",
          "iopub.status.busy": "2021-04-14T20:56:06.612425Z",
          "iopub.status.idle": "2021-04-14T20:56:06.647804Z",
          "shell.execute_reply": "2021-04-14T20:56:06.647230Z"
        },
        "papermill": {
          "duration": 0.11735,
          "end_time": "2021-04-14T20:56:06.647976",
          "exception": false,
          "start_time": "2021-04-14T20:56:06.530626",
          "status": "completed"
        },
        "tags": [],
        "id": "compound-detection",
        "outputId": "33bb943f-04cf-44d1-9d1e-6489071cbb4a"
      },
      "source": [
        "df.describe()"
      ],
      "id": "compound-detection",
      "execution_count": null,
      "outputs": [
        {
          "output_type": "execute_result",
          "data": {
            "text/html": [
              "<div>\n",
              "<style scoped>\n",
              "    .dataframe tbody tr th:only-of-type {\n",
              "        vertical-align: middle;\n",
              "    }\n",
              "\n",
              "    .dataframe tbody tr th {\n",
              "        vertical-align: top;\n",
              "    }\n",
              "\n",
              "    .dataframe thead th {\n",
              "        text-align: right;\n",
              "    }\n",
              "</style>\n",
              "<table border=\"1\" class=\"dataframe\">\n",
              "  <thead>\n",
              "    <tr style=\"text-align: right;\">\n",
              "      <th></th>\n",
              "      <th>size</th>\n",
              "      <th>total_sqft</th>\n",
              "      <th>bath</th>\n",
              "      <th>balcony</th>\n",
              "      <th>price</th>\n",
              "    </tr>\n",
              "  </thead>\n",
              "  <tbody>\n",
              "    <tr>\n",
              "      <th>count</th>\n",
              "      <td>12185.000000</td>\n",
              "      <td>12185.000000</td>\n",
              "      <td>12185.000000</td>\n",
              "      <td>12185.000000</td>\n",
              "      <td>12185.000000</td>\n",
              "    </tr>\n",
              "    <tr>\n",
              "      <th>mean</th>\n",
              "      <td>2.749282</td>\n",
              "      <td>1515.130817</td>\n",
              "      <td>2.631022</td>\n",
              "      <td>1.582273</td>\n",
              "      <td>107.631297</td>\n",
              "    </tr>\n",
              "    <tr>\n",
              "      <th>std</th>\n",
              "      <td>1.220753</td>\n",
              "      <td>1182.638686</td>\n",
              "      <td>1.240363</td>\n",
              "      <td>0.822561</td>\n",
              "      <td>134.022372</td>\n",
              "    </tr>\n",
              "    <tr>\n",
              "      <th>min</th>\n",
              "      <td>1.000000</td>\n",
              "      <td>1.000000</td>\n",
              "      <td>1.000000</td>\n",
              "      <td>0.000000</td>\n",
              "      <td>8.000000</td>\n",
              "    </tr>\n",
              "    <tr>\n",
              "      <th>25%</th>\n",
              "      <td>2.000000</td>\n",
              "      <td>1095.000000</td>\n",
              "      <td>2.000000</td>\n",
              "      <td>1.000000</td>\n",
              "      <td>50.000000</td>\n",
              "    </tr>\n",
              "    <tr>\n",
              "      <th>50%</th>\n",
              "      <td>3.000000</td>\n",
              "      <td>1262.000000</td>\n",
              "      <td>2.000000</td>\n",
              "      <td>2.000000</td>\n",
              "      <td>70.000000</td>\n",
              "    </tr>\n",
              "    <tr>\n",
              "      <th>75%</th>\n",
              "      <td>3.000000</td>\n",
              "      <td>1650.000000</td>\n",
              "      <td>3.000000</td>\n",
              "      <td>2.000000</td>\n",
              "      <td>115.000000</td>\n",
              "    </tr>\n",
              "    <tr>\n",
              "      <th>max</th>\n",
              "      <td>43.000000</td>\n",
              "      <td>52272.000000</td>\n",
              "      <td>40.000000</td>\n",
              "      <td>3.000000</td>\n",
              "      <td>2912.000000</td>\n",
              "    </tr>\n",
              "  </tbody>\n",
              "</table>\n",
              "</div>"
            ],
            "text/plain": [
              "               size    total_sqft          bath       balcony         price\n",
              "count  12185.000000  12185.000000  12185.000000  12185.000000  12185.000000\n",
              "mean       2.749282   1515.130817      2.631022      1.582273    107.631297\n",
              "std        1.220753   1182.638686      1.240363      0.822561    134.022372\n",
              "min        1.000000      1.000000      1.000000      0.000000      8.000000\n",
              "25%        2.000000   1095.000000      2.000000      1.000000     50.000000\n",
              "50%        3.000000   1262.000000      2.000000      2.000000     70.000000\n",
              "75%        3.000000   1650.000000      3.000000      2.000000    115.000000\n",
              "max       43.000000  52272.000000     40.000000      3.000000   2912.000000"
            ]
          },
          "metadata": {
            "tags": []
          },
          "execution_count": 47
        }
      ]
    },
    {
      "cell_type": "code",
      "metadata": {
        "execution": {
          "iopub.execute_input": "2021-04-14T20:56:06.815573Z",
          "iopub.status.busy": "2021-04-14T20:56:06.814430Z",
          "iopub.status.idle": "2021-04-14T20:56:06.826445Z",
          "shell.execute_reply": "2021-04-14T20:56:06.825735Z"
        },
        "papermill": {
          "duration": 0.098857,
          "end_time": "2021-04-14T20:56:06.826613",
          "exception": false,
          "start_time": "2021-04-14T20:56:06.727756",
          "status": "completed"
        },
        "tags": [],
        "id": "bronze-there",
        "outputId": "210d1740-3f11-4992-8a95-706f77349441"
      },
      "source": [
        "(df['total_sqft']/df['size']).describe()"
      ],
      "id": "bronze-there",
      "execution_count": null,
      "outputs": [
        {
          "output_type": "execute_result",
          "data": {
            "text/plain": [
              "count    12185.000000\n",
              "mean       569.017628\n",
              "std        388.019741\n",
              "min          0.500000\n",
              "25%        471.500000\n",
              "50%        550.000000\n",
              "75%        622.500000\n",
              "max      26136.000000\n",
              "dtype: float64"
            ]
          },
          "metadata": {
            "tags": []
          },
          "execution_count": 48
        }
      ]
    },
    {
      "cell_type": "code",
      "metadata": {
        "execution": {
          "iopub.execute_input": "2021-04-14T20:56:06.995462Z",
          "iopub.status.busy": "2021-04-14T20:56:06.994433Z",
          "iopub.status.idle": "2021-04-14T20:56:07.029698Z",
          "shell.execute_reply": "2021-04-14T20:56:07.028920Z"
        },
        "papermill": {
          "duration": 0.123027,
          "end_time": "2021-04-14T20:56:07.029885",
          "exception": false,
          "start_time": "2021-04-14T20:56:06.906858",
          "status": "completed"
        },
        "tags": [],
        "id": "consistent-equation",
        "outputId": "e0fc148b-22d0-4d06-f63a-9533b5034b6b"
      },
      "source": [
        "df=df[((df['total_sqft']/df['size'])>=300)]\n",
        "df.describe()"
      ],
      "id": "consistent-equation",
      "execution_count": null,
      "outputs": [
        {
          "output_type": "execute_result",
          "data": {
            "text/html": [
              "<div>\n",
              "<style scoped>\n",
              "    .dataframe tbody tr th:only-of-type {\n",
              "        vertical-align: middle;\n",
              "    }\n",
              "\n",
              "    .dataframe tbody tr th {\n",
              "        vertical-align: top;\n",
              "    }\n",
              "\n",
              "    .dataframe thead th {\n",
              "        text-align: right;\n",
              "    }\n",
              "</style>\n",
              "<table border=\"1\" class=\"dataframe\">\n",
              "  <thead>\n",
              "    <tr style=\"text-align: right;\">\n",
              "      <th></th>\n",
              "      <th>size</th>\n",
              "      <th>total_sqft</th>\n",
              "      <th>bath</th>\n",
              "      <th>balcony</th>\n",
              "      <th>price</th>\n",
              "    </tr>\n",
              "  </thead>\n",
              "  <tbody>\n",
              "    <tr>\n",
              "      <th>count</th>\n",
              "      <td>11502.000000</td>\n",
              "      <td>11502.000000</td>\n",
              "      <td>11502.000000</td>\n",
              "      <td>11502.000000</td>\n",
              "      <td>11502.000000</td>\n",
              "    </tr>\n",
              "    <tr>\n",
              "      <th>mean</th>\n",
              "      <td>2.616154</td>\n",
              "      <td>1551.120501</td>\n",
              "      <td>2.522953</td>\n",
              "      <td>1.586159</td>\n",
              "      <td>106.700546</td>\n",
              "    </tr>\n",
              "    <tr>\n",
              "      <th>std</th>\n",
              "      <td>0.933784</td>\n",
              "      <td>1202.054927</td>\n",
              "      <td>1.017260</td>\n",
              "      <td>0.814085</td>\n",
              "      <td>136.642477</td>\n",
              "    </tr>\n",
              "    <tr>\n",
              "      <th>min</th>\n",
              "      <td>1.000000</td>\n",
              "      <td>300.000000</td>\n",
              "      <td>1.000000</td>\n",
              "      <td>0.000000</td>\n",
              "      <td>9.000000</td>\n",
              "    </tr>\n",
              "    <tr>\n",
              "      <th>25%</th>\n",
              "      <td>2.000000</td>\n",
              "      <td>1105.000000</td>\n",
              "      <td>2.000000</td>\n",
              "      <td>1.000000</td>\n",
              "      <td>49.000000</td>\n",
              "    </tr>\n",
              "    <tr>\n",
              "      <th>50%</th>\n",
              "      <td>2.000000</td>\n",
              "      <td>1291.000000</td>\n",
              "      <td>2.000000</td>\n",
              "      <td>2.000000</td>\n",
              "      <td>69.240000</td>\n",
              "    </tr>\n",
              "    <tr>\n",
              "      <th>75%</th>\n",
              "      <td>3.000000</td>\n",
              "      <td>1680.000000</td>\n",
              "      <td>3.000000</td>\n",
              "      <td>2.000000</td>\n",
              "      <td>112.000000</td>\n",
              "    </tr>\n",
              "    <tr>\n",
              "      <th>max</th>\n",
              "      <td>13.000000</td>\n",
              "      <td>52272.000000</td>\n",
              "      <td>13.000000</td>\n",
              "      <td>3.000000</td>\n",
              "      <td>2912.000000</td>\n",
              "    </tr>\n",
              "  </tbody>\n",
              "</table>\n",
              "</div>"
            ],
            "text/plain": [
              "               size    total_sqft          bath       balcony         price\n",
              "count  11502.000000  11502.000000  11502.000000  11502.000000  11502.000000\n",
              "mean       2.616154   1551.120501      2.522953      1.586159    106.700546\n",
              "std        0.933784   1202.054927      1.017260      0.814085    136.642477\n",
              "min        1.000000    300.000000      1.000000      0.000000      9.000000\n",
              "25%        2.000000   1105.000000      2.000000      1.000000     49.000000\n",
              "50%        2.000000   1291.000000      2.000000      2.000000     69.240000\n",
              "75%        3.000000   1680.000000      3.000000      2.000000    112.000000\n",
              "max       13.000000  52272.000000     13.000000      3.000000   2912.000000"
            ]
          },
          "metadata": {
            "tags": []
          },
          "execution_count": 49
        }
      ]
    },
    {
      "cell_type": "code",
      "metadata": {
        "execution": {
          "iopub.execute_input": "2021-04-14T20:56:07.205712Z",
          "iopub.status.busy": "2021-04-14T20:56:07.204985Z",
          "iopub.status.idle": "2021-04-14T20:56:07.239945Z",
          "shell.execute_reply": "2021-04-14T20:56:07.239069Z"
        },
        "papermill": {
          "duration": 0.126908,
          "end_time": "2021-04-14T20:56:07.240145",
          "exception": false,
          "start_time": "2021-04-14T20:56:07.113237",
          "status": "completed"
        },
        "tags": [],
        "id": "elegant-wisdom",
        "outputId": "17e5eac1-df61-43cc-d9f9-a9f302b6a1e4"
      },
      "source": [
        "df=df[(df['total_sqft']<36000)]\n",
        "df.describe()"
      ],
      "id": "elegant-wisdom",
      "execution_count": null,
      "outputs": [
        {
          "output_type": "execute_result",
          "data": {
            "text/html": [
              "<div>\n",
              "<style scoped>\n",
              "    .dataframe tbody tr th:only-of-type {\n",
              "        vertical-align: middle;\n",
              "    }\n",
              "\n",
              "    .dataframe tbody tr th {\n",
              "        vertical-align: top;\n",
              "    }\n",
              "\n",
              "    .dataframe thead th {\n",
              "        text-align: right;\n",
              "    }\n",
              "</style>\n",
              "<table border=\"1\" class=\"dataframe\">\n",
              "  <thead>\n",
              "    <tr style=\"text-align: right;\">\n",
              "      <th></th>\n",
              "      <th>size</th>\n",
              "      <th>total_sqft</th>\n",
              "      <th>bath</th>\n",
              "      <th>balcony</th>\n",
              "      <th>price</th>\n",
              "    </tr>\n",
              "  </thead>\n",
              "  <tbody>\n",
              "    <tr>\n",
              "      <th>count</th>\n",
              "      <td>11499.000000</td>\n",
              "      <td>11499.000000</td>\n",
              "      <td>11499.000000</td>\n",
              "      <td>11499.000000</td>\n",
              "      <td>11499.000000</td>\n",
              "    </tr>\n",
              "    <tr>\n",
              "      <th>mean</th>\n",
              "      <td>2.615445</td>\n",
              "      <td>1540.196191</td>\n",
              "      <td>2.522393</td>\n",
              "      <td>1.586051</td>\n",
              "      <td>106.661856</td>\n",
              "    </tr>\n",
              "    <tr>\n",
              "      <th>std</th>\n",
              "      <td>0.931909</td>\n",
              "      <td>987.898266</td>\n",
              "      <td>1.016004</td>\n",
              "      <td>0.814057</td>\n",
              "      <td>136.620952</td>\n",
              "    </tr>\n",
              "    <tr>\n",
              "      <th>min</th>\n",
              "      <td>1.000000</td>\n",
              "      <td>300.000000</td>\n",
              "      <td>1.000000</td>\n",
              "      <td>0.000000</td>\n",
              "      <td>9.000000</td>\n",
              "    </tr>\n",
              "    <tr>\n",
              "      <th>25%</th>\n",
              "      <td>2.000000</td>\n",
              "      <td>1105.000000</td>\n",
              "      <td>2.000000</td>\n",
              "      <td>1.000000</td>\n",
              "      <td>49.000000</td>\n",
              "    </tr>\n",
              "    <tr>\n",
              "      <th>50%</th>\n",
              "      <td>2.000000</td>\n",
              "      <td>1290.000000</td>\n",
              "      <td>2.000000</td>\n",
              "      <td>2.000000</td>\n",
              "      <td>69.180000</td>\n",
              "    </tr>\n",
              "    <tr>\n",
              "      <th>75%</th>\n",
              "      <td>3.000000</td>\n",
              "      <td>1678.500000</td>\n",
              "      <td>3.000000</td>\n",
              "      <td>2.000000</td>\n",
              "      <td>111.500000</td>\n",
              "    </tr>\n",
              "    <tr>\n",
              "      <th>max</th>\n",
              "      <td>13.000000</td>\n",
              "      <td>35000.000000</td>\n",
              "      <td>13.000000</td>\n",
              "      <td>3.000000</td>\n",
              "      <td>2912.000000</td>\n",
              "    </tr>\n",
              "  </tbody>\n",
              "</table>\n",
              "</div>"
            ],
            "text/plain": [
              "               size    total_sqft          bath       balcony         price\n",
              "count  11499.000000  11499.000000  11499.000000  11499.000000  11499.000000\n",
              "mean       2.615445   1540.196191      2.522393      1.586051    106.661856\n",
              "std        0.931909    987.898266      1.016004      0.814057    136.620952\n",
              "min        1.000000    300.000000      1.000000      0.000000      9.000000\n",
              "25%        2.000000   1105.000000      2.000000      1.000000     49.000000\n",
              "50%        2.000000   1290.000000      2.000000      2.000000     69.180000\n",
              "75%        3.000000   1678.500000      3.000000      2.000000    111.500000\n",
              "max       13.000000  35000.000000     13.000000      3.000000   2912.000000"
            ]
          },
          "metadata": {
            "tags": []
          },
          "execution_count": 50
        }
      ]
    },
    {
      "cell_type": "code",
      "metadata": {
        "execution": {
          "iopub.execute_input": "2021-04-14T20:56:07.413202Z",
          "iopub.status.busy": "2021-04-14T20:56:07.409796Z",
          "iopub.status.idle": "2021-04-14T20:56:07.419708Z",
          "shell.execute_reply": "2021-04-14T20:56:07.418273Z"
        },
        "papermill": {
          "duration": 0.096507,
          "end_time": "2021-04-14T20:56:07.419927",
          "exception": false,
          "start_time": "2021-04-14T20:56:07.323420",
          "status": "completed"
        },
        "tags": [],
        "id": "overhead-radius",
        "outputId": "a77ead52-b94b-40f2-d1ae-d353d34de514"
      },
      "source": [
        "df['bath'].value_counts()"
      ],
      "id": "overhead-radius",
      "execution_count": null,
      "outputs": [
        {
          "output_type": "execute_result",
          "data": {
            "text/plain": [
              "2.0     6386\n",
              "3.0     2928\n",
              "4.0      911\n",
              "1.0      726\n",
              "5.0      330\n",
              "6.0      148\n",
              "7.0       37\n",
              "8.0       21\n",
              "9.0        9\n",
              "10.0       2\n",
              "13.0       1\n",
              "Name: bath, dtype: int64"
            ]
          },
          "metadata": {
            "tags": []
          },
          "execution_count": 51
        }
      ]
    },
    {
      "cell_type": "code",
      "metadata": {
        "execution": {
          "iopub.execute_input": "2021-04-14T20:56:07.594411Z",
          "iopub.status.busy": "2021-04-14T20:56:07.593683Z",
          "iopub.status.idle": "2021-04-14T20:56:07.599552Z",
          "shell.execute_reply": "2021-04-14T20:56:07.598323Z"
        },
        "papermill": {
          "duration": 0.096595,
          "end_time": "2021-04-14T20:56:07.599757",
          "exception": false,
          "start_time": "2021-04-14T20:56:07.503162",
          "status": "completed"
        },
        "tags": [],
        "id": "elder-alert",
        "outputId": "e9ce9a9d-5832-4758-dc37-08ef695df0d2"
      },
      "source": [
        "df.shape"
      ],
      "id": "elder-alert",
      "execution_count": null,
      "outputs": [
        {
          "output_type": "execute_result",
          "data": {
            "text/plain": [
              "(11499, 7)"
            ]
          },
          "metadata": {
            "tags": []
          },
          "execution_count": 52
        }
      ]
    },
    {
      "cell_type": "code",
      "metadata": {
        "execution": {
          "iopub.execute_input": "2021-04-14T20:56:07.782388Z",
          "iopub.status.busy": "2021-04-14T20:56:07.781613Z",
          "iopub.status.idle": "2021-04-14T20:56:07.787928Z",
          "shell.execute_reply": "2021-04-14T20:56:07.786785Z"
        },
        "papermill": {
          "duration": 0.104352,
          "end_time": "2021-04-14T20:56:07.788251",
          "exception": false,
          "start_time": "2021-04-14T20:56:07.683899",
          "status": "completed"
        },
        "tags": [],
        "id": "ideal-arctic",
        "outputId": "38140fe3-7c8d-44c3-d4ef-12999361218b"
      },
      "source": [
        "df.head()"
      ],
      "id": "ideal-arctic",
      "execution_count": null,
      "outputs": [
        {
          "output_type": "execute_result",
          "data": {
            "text/html": [
              "<div>\n",
              "<style scoped>\n",
              "    .dataframe tbody tr th:only-of-type {\n",
              "        vertical-align: middle;\n",
              "    }\n",
              "\n",
              "    .dataframe tbody tr th {\n",
              "        vertical-align: top;\n",
              "    }\n",
              "\n",
              "    .dataframe thead th {\n",
              "        text-align: right;\n",
              "    }\n",
              "</style>\n",
              "<table border=\"1\" class=\"dataframe\">\n",
              "  <thead>\n",
              "    <tr style=\"text-align: right;\">\n",
              "      <th></th>\n",
              "      <th>area_type</th>\n",
              "      <th>location</th>\n",
              "      <th>size</th>\n",
              "      <th>total_sqft</th>\n",
              "      <th>bath</th>\n",
              "      <th>balcony</th>\n",
              "      <th>price</th>\n",
              "    </tr>\n",
              "  </thead>\n",
              "  <tbody>\n",
              "    <tr>\n",
              "      <th>0</th>\n",
              "      <td>Super built-up  Area</td>\n",
              "      <td>Electronic City Phase II</td>\n",
              "      <td>2.0</td>\n",
              "      <td>1056.0</td>\n",
              "      <td>2.0</td>\n",
              "      <td>1.0</td>\n",
              "      <td>39.07</td>\n",
              "    </tr>\n",
              "    <tr>\n",
              "      <th>1</th>\n",
              "      <td>Plot  Area</td>\n",
              "      <td>Chikka Tirupathi</td>\n",
              "      <td>4.0</td>\n",
              "      <td>2600.0</td>\n",
              "      <td>5.0</td>\n",
              "      <td>3.0</td>\n",
              "      <td>120.00</td>\n",
              "    </tr>\n",
              "    <tr>\n",
              "      <th>2</th>\n",
              "      <td>Built-up  Area</td>\n",
              "      <td>Uttarahalli</td>\n",
              "      <td>3.0</td>\n",
              "      <td>1440.0</td>\n",
              "      <td>2.0</td>\n",
              "      <td>3.0</td>\n",
              "      <td>62.00</td>\n",
              "    </tr>\n",
              "    <tr>\n",
              "      <th>3</th>\n",
              "      <td>Super built-up  Area</td>\n",
              "      <td>Lingadheeranahalli</td>\n",
              "      <td>3.0</td>\n",
              "      <td>1521.0</td>\n",
              "      <td>3.0</td>\n",
              "      <td>1.0</td>\n",
              "      <td>95.00</td>\n",
              "    </tr>\n",
              "    <tr>\n",
              "      <th>4</th>\n",
              "      <td>Super built-up  Area</td>\n",
              "      <td>Kothanur</td>\n",
              "      <td>2.0</td>\n",
              "      <td>1200.0</td>\n",
              "      <td>2.0</td>\n",
              "      <td>1.0</td>\n",
              "      <td>51.00</td>\n",
              "    </tr>\n",
              "  </tbody>\n",
              "</table>\n",
              "</div>"
            ],
            "text/plain": [
              "              area_type                  location  size  total_sqft  bath  \\\n",
              "0  Super built-up  Area  Electronic City Phase II   2.0      1056.0   2.0   \n",
              "1            Plot  Area          Chikka Tirupathi   4.0      2600.0   5.0   \n",
              "2        Built-up  Area               Uttarahalli   3.0      1440.0   2.0   \n",
              "3  Super built-up  Area        Lingadheeranahalli   3.0      1521.0   3.0   \n",
              "4  Super built-up  Area                  Kothanur   2.0      1200.0   2.0   \n",
              "\n",
              "   balcony   price  \n",
              "0      1.0   39.07  \n",
              "1      3.0  120.00  \n",
              "2      3.0   62.00  \n",
              "3      1.0   95.00  \n",
              "4      1.0   51.00  "
            ]
          },
          "metadata": {
            "tags": []
          },
          "execution_count": 53
        }
      ]
    },
    {
      "cell_type": "code",
      "metadata": {
        "execution": {
          "iopub.execute_input": "2021-04-14T20:56:07.960377Z",
          "iopub.status.busy": "2021-04-14T20:56:07.959573Z",
          "iopub.status.idle": "2021-04-14T20:56:08.064870Z",
          "shell.execute_reply": "2021-04-14T20:56:08.063909Z"
        },
        "papermill": {
          "duration": 0.193656,
          "end_time": "2021-04-14T20:56:08.065081",
          "exception": false,
          "start_time": "2021-04-14T20:56:07.871425",
          "status": "completed"
        },
        "tags": [],
        "id": "extended-trinity"
      },
      "source": [
        "df.to_csv(\"final_df.csv\")"
      ],
      "id": "extended-trinity",
      "execution_count": null,
      "outputs": []
    },
    {
      "cell_type": "code",
      "metadata": {
        "execution": {
          "iopub.execute_input": "2021-04-14T20:56:08.237112Z",
          "iopub.status.busy": "2021-04-14T20:56:08.236171Z",
          "iopub.status.idle": "2021-04-14T20:56:09.463810Z",
          "shell.execute_reply": "2021-04-14T20:56:09.462328Z"
        },
        "papermill": {
          "duration": 1.315822,
          "end_time": "2021-04-14T20:56:09.464021",
          "exception": false,
          "start_time": "2021-04-14T20:56:08.148199",
          "status": "completed"
        },
        "tags": [],
        "id": "creative-ending"
      },
      "source": [
        "from sklearn.preprocessing import LabelEncoder"
      ],
      "id": "creative-ending",
      "execution_count": null,
      "outputs": []
    },
    {
      "cell_type": "code",
      "metadata": {
        "execution": {
          "iopub.execute_input": "2021-04-14T20:56:09.637488Z",
          "iopub.status.busy": "2021-04-14T20:56:09.636742Z",
          "iopub.status.idle": "2021-04-14T20:56:09.640958Z",
          "shell.execute_reply": "2021-04-14T20:56:09.640329Z"
        },
        "papermill": {
          "duration": 0.094126,
          "end_time": "2021-04-14T20:56:09.641145",
          "exception": false,
          "start_time": "2021-04-14T20:56:09.547019",
          "status": "completed"
        },
        "tags": [],
        "id": "joined-lobby"
      },
      "source": [
        "area_encoder= LabelEncoder()"
      ],
      "id": "joined-lobby",
      "execution_count": null,
      "outputs": []
    },
    {
      "cell_type": "code",
      "metadata": {
        "execution": {
          "iopub.execute_input": "2021-04-14T20:56:09.814795Z",
          "iopub.status.busy": "2021-04-14T20:56:09.813865Z",
          "iopub.status.idle": "2021-04-14T20:56:09.817368Z",
          "shell.execute_reply": "2021-04-14T20:56:09.816797Z"
        },
        "papermill": {
          "duration": 0.093563,
          "end_time": "2021-04-14T20:56:09.817541",
          "exception": false,
          "start_time": "2021-04-14T20:56:09.723978",
          "status": "completed"
        },
        "tags": [],
        "id": "encouraging-inside"
      },
      "source": [
        "location_encoder=LabelEncoder()"
      ],
      "id": "encouraging-inside",
      "execution_count": null,
      "outputs": []
    },
    {
      "cell_type": "code",
      "metadata": {
        "execution": {
          "iopub.execute_input": "2021-04-14T20:56:10.001999Z",
          "iopub.status.busy": "2021-04-14T20:56:09.995278Z",
          "iopub.status.idle": "2021-04-14T20:56:10.005626Z",
          "shell.execute_reply": "2021-04-14T20:56:10.004885Z"
        },
        "papermill": {
          "duration": 0.104098,
          "end_time": "2021-04-14T20:56:10.005827",
          "exception": false,
          "start_time": "2021-04-14T20:56:09.901729",
          "status": "completed"
        },
        "tags": [],
        "id": "presidential-steal"
      },
      "source": [
        "\n",
        "df['area_type']= area_encoder.fit_transform(df['area_type'])\n",
        "df['location']= location_encoder.fit_transform(df['location'])"
      ],
      "id": "presidential-steal",
      "execution_count": null,
      "outputs": []
    },
    {
      "cell_type": "code",
      "metadata": {
        "execution": {
          "iopub.execute_input": "2021-04-14T20:56:10.178285Z",
          "iopub.status.busy": "2021-04-14T20:56:10.177427Z",
          "iopub.status.idle": "2021-04-14T20:56:10.193594Z",
          "shell.execute_reply": "2021-04-14T20:56:10.194238Z"
        },
        "papermill": {
          "duration": 0.103197,
          "end_time": "2021-04-14T20:56:10.194446",
          "exception": false,
          "start_time": "2021-04-14T20:56:10.091249",
          "status": "completed"
        },
        "tags": [],
        "id": "opening-charter",
        "outputId": "a1ba591b-adb1-4ef5-e695-7220b3f7fd29"
      },
      "source": [
        "df.head()"
      ],
      "id": "opening-charter",
      "execution_count": null,
      "outputs": [
        {
          "output_type": "execute_result",
          "data": {
            "text/html": [
              "<div>\n",
              "<style scoped>\n",
              "    .dataframe tbody tr th:only-of-type {\n",
              "        vertical-align: middle;\n",
              "    }\n",
              "\n",
              "    .dataframe tbody tr th {\n",
              "        vertical-align: top;\n",
              "    }\n",
              "\n",
              "    .dataframe thead th {\n",
              "        text-align: right;\n",
              "    }\n",
              "</style>\n",
              "<table border=\"1\" class=\"dataframe\">\n",
              "  <thead>\n",
              "    <tr style=\"text-align: right;\">\n",
              "      <th></th>\n",
              "      <th>area_type</th>\n",
              "      <th>location</th>\n",
              "      <th>size</th>\n",
              "      <th>total_sqft</th>\n",
              "      <th>bath</th>\n",
              "      <th>balcony</th>\n",
              "      <th>price</th>\n",
              "    </tr>\n",
              "  </thead>\n",
              "  <tbody>\n",
              "    <tr>\n",
              "      <th>0</th>\n",
              "      <td>3</td>\n",
              "      <td>74</td>\n",
              "      <td>2.0</td>\n",
              "      <td>1056.0</td>\n",
              "      <td>2.0</td>\n",
              "      <td>1.0</td>\n",
              "      <td>39.07</td>\n",
              "    </tr>\n",
              "    <tr>\n",
              "      <th>1</th>\n",
              "      <td>2</td>\n",
              "      <td>56</td>\n",
              "      <td>4.0</td>\n",
              "      <td>2600.0</td>\n",
              "      <td>5.0</td>\n",
              "      <td>3.0</td>\n",
              "      <td>120.00</td>\n",
              "    </tr>\n",
              "    <tr>\n",
              "      <th>2</th>\n",
              "      <td>0</td>\n",
              "      <td>213</td>\n",
              "      <td>3.0</td>\n",
              "      <td>1440.0</td>\n",
              "      <td>2.0</td>\n",
              "      <td>3.0</td>\n",
              "      <td>62.00</td>\n",
              "    </tr>\n",
              "    <tr>\n",
              "      <th>3</th>\n",
              "      <td>3</td>\n",
              "      <td>151</td>\n",
              "      <td>3.0</td>\n",
              "      <td>1521.0</td>\n",
              "      <td>3.0</td>\n",
              "      <td>1.0</td>\n",
              "      <td>95.00</td>\n",
              "    </tr>\n",
              "    <tr>\n",
              "      <th>4</th>\n",
              "      <td>3</td>\n",
              "      <td>143</td>\n",
              "      <td>2.0</td>\n",
              "      <td>1200.0</td>\n",
              "      <td>2.0</td>\n",
              "      <td>1.0</td>\n",
              "      <td>51.00</td>\n",
              "    </tr>\n",
              "  </tbody>\n",
              "</table>\n",
              "</div>"
            ],
            "text/plain": [
              "   area_type  location  size  total_sqft  bath  balcony   price\n",
              "0          3        74   2.0      1056.0   2.0      1.0   39.07\n",
              "1          2        56   4.0      2600.0   5.0      3.0  120.00\n",
              "2          0       213   3.0      1440.0   2.0      3.0   62.00\n",
              "3          3       151   3.0      1521.0   3.0      1.0   95.00\n",
              "4          3       143   2.0      1200.0   2.0      1.0   51.00"
            ]
          },
          "metadata": {
            "tags": []
          },
          "execution_count": 59
        }
      ]
    },
    {
      "cell_type": "code",
      "metadata": {
        "execution": {
          "iopub.execute_input": "2021-04-14T20:56:10.371240Z",
          "iopub.status.busy": "2021-04-14T20:56:10.370397Z",
          "iopub.status.idle": "2021-04-14T20:56:10.374098Z",
          "shell.execute_reply": "2021-04-14T20:56:10.374718Z"
        },
        "papermill": {
          "duration": 0.095358,
          "end_time": "2021-04-14T20:56:10.374926",
          "exception": false,
          "start_time": "2021-04-14T20:56:10.279568",
          "status": "completed"
        },
        "tags": [],
        "id": "furnished-insured",
        "outputId": "debbe336-7614-4d7e-ef8b-e3997358a96d"
      },
      "source": [
        "df.shape"
      ],
      "id": "furnished-insured",
      "execution_count": null,
      "outputs": [
        {
          "output_type": "execute_result",
          "data": {
            "text/plain": [
              "(11499, 7)"
            ]
          },
          "metadata": {
            "tags": []
          },
          "execution_count": 60
        }
      ]
    },
    {
      "cell_type": "code",
      "metadata": {
        "execution": {
          "iopub.execute_input": "2021-04-14T20:56:10.549514Z",
          "iopub.status.busy": "2021-04-14T20:56:10.548854Z",
          "iopub.status.idle": "2021-04-14T20:56:10.561053Z",
          "shell.execute_reply": "2021-04-14T20:56:10.561661Z"
        },
        "papermill": {
          "duration": 0.101748,
          "end_time": "2021-04-14T20:56:10.561878",
          "exception": false,
          "start_time": "2021-04-14T20:56:10.460130",
          "status": "completed"
        },
        "tags": [],
        "id": "still-prague",
        "outputId": "7af4e2a1-6281-4ecc-8afb-eb11250bec5f"
      },
      "source": [
        "df.corr()['price']"
      ],
      "id": "still-prague",
      "execution_count": null,
      "outputs": [
        {
          "output_type": "execute_result",
          "data": {
            "text/plain": [
              "area_type    -0.057803\n",
              "location      0.079074\n",
              "size          0.483763\n",
              "total_sqft    0.676333\n",
              "bath          0.523619\n",
              "balcony       0.118215\n",
              "price         1.000000\n",
              "Name: price, dtype: float64"
            ]
          },
          "metadata": {
            "tags": []
          },
          "execution_count": 61
        }
      ]
    },
    {
      "cell_type": "code",
      "metadata": {
        "execution": {
          "iopub.execute_input": "2021-04-14T20:56:10.742428Z",
          "iopub.status.busy": "2021-04-14T20:56:10.741682Z",
          "iopub.status.idle": "2021-04-14T20:56:10.747676Z",
          "shell.execute_reply": "2021-04-14T20:56:10.748468Z"
        },
        "papermill": {
          "duration": 0.101153,
          "end_time": "2021-04-14T20:56:10.748720",
          "exception": false,
          "start_time": "2021-04-14T20:56:10.647567",
          "status": "completed"
        },
        "tags": [],
        "id": "broke-honey"
      },
      "source": [
        "from sklearn.preprocessing import OneHotEncoder"
      ],
      "id": "broke-honey",
      "execution_count": null,
      "outputs": []
    },
    {
      "cell_type": "code",
      "metadata": {
        "execution": {
          "iopub.execute_input": "2021-04-14T20:56:10.925368Z",
          "iopub.status.busy": "2021-04-14T20:56:10.924550Z",
          "iopub.status.idle": "2021-04-14T20:56:10.928857Z",
          "shell.execute_reply": "2021-04-14T20:56:10.929448Z"
        },
        "papermill": {
          "duration": 0.093566,
          "end_time": "2021-04-14T20:56:10.929763",
          "exception": false,
          "start_time": "2021-04-14T20:56:10.836197",
          "status": "completed"
        },
        "tags": [],
        "id": "accompanied-bones"
      },
      "source": [
        "ohe= OneHotEncoder(drop='first')"
      ],
      "id": "accompanied-bones",
      "execution_count": null,
      "outputs": []
    },
    {
      "cell_type": "code",
      "metadata": {
        "execution": {
          "iopub.execute_input": "2021-04-14T20:56:11.111422Z",
          "iopub.status.busy": "2021-04-14T20:56:11.110667Z",
          "iopub.status.idle": "2021-04-14T20:56:11.118082Z",
          "shell.execute_reply": "2021-04-14T20:56:11.119394Z"
        },
        "papermill": {
          "duration": 0.100937,
          "end_time": "2021-04-14T20:56:11.119679",
          "exception": false,
          "start_time": "2021-04-14T20:56:11.018742",
          "status": "completed"
        },
        "tags": [],
        "id": "expected-leader"
      },
      "source": [
        "X=df.drop(columns=['area_type','location','price']).iloc[:,:].values"
      ],
      "id": "expected-leader",
      "execution_count": null,
      "outputs": []
    },
    {
      "cell_type": "code",
      "metadata": {
        "execution": {
          "iopub.execute_input": "2021-04-14T20:56:11.295299Z",
          "iopub.status.busy": "2021-04-14T20:56:11.294533Z",
          "iopub.status.idle": "2021-04-14T20:56:11.343866Z",
          "shell.execute_reply": "2021-04-14T20:56:11.344491Z"
        },
        "papermill": {
          "duration": 0.138533,
          "end_time": "2021-04-14T20:56:11.344738",
          "exception": false,
          "start_time": "2021-04-14T20:56:11.206205",
          "status": "completed"
        },
        "tags": [],
        "id": "affecting-formation"
      },
      "source": [
        "X_trans=ohe.fit_transform(df[['area_type','location']]).toarray()"
      ],
      "id": "affecting-formation",
      "execution_count": null,
      "outputs": []
    },
    {
      "cell_type": "code",
      "metadata": {
        "execution": {
          "iopub.execute_input": "2021-04-14T20:56:11.528513Z",
          "iopub.status.busy": "2021-04-14T20:56:11.527722Z",
          "iopub.status.idle": "2021-04-14T20:56:11.553028Z",
          "shell.execute_reply": "2021-04-14T20:56:11.553711Z"
        },
        "papermill": {
          "duration": 0.118569,
          "end_time": "2021-04-14T20:56:11.553931",
          "exception": false,
          "start_time": "2021-04-14T20:56:11.435362",
          "status": "completed"
        },
        "tags": [],
        "id": "incident-liability"
      },
      "source": [
        "X=np.hstack((X,X_trans))"
      ],
      "id": "incident-liability",
      "execution_count": null,
      "outputs": []
    },
    {
      "cell_type": "code",
      "metadata": {
        "execution": {
          "iopub.execute_input": "2021-04-14T20:56:11.730459Z",
          "iopub.status.busy": "2021-04-14T20:56:11.729618Z",
          "iopub.status.idle": "2021-04-14T20:56:11.736811Z",
          "shell.execute_reply": "2021-04-14T20:56:11.737395Z"
        },
        "papermill": {
          "duration": 0.097066,
          "end_time": "2021-04-14T20:56:11.737608",
          "exception": false,
          "start_time": "2021-04-14T20:56:11.640542",
          "status": "completed"
        },
        "tags": [],
        "id": "hybrid-stocks",
        "outputId": "f6838967-c6e0-48df-e112-1004fb339bab"
      },
      "source": [
        "X"
      ],
      "id": "hybrid-stocks",
      "execution_count": null,
      "outputs": [
        {
          "output_type": "execute_result",
          "data": {
            "text/plain": [
              "array([[2.000e+00, 1.056e+03, 2.000e+00, ..., 0.000e+00, 0.000e+00,\n",
              "        0.000e+00],\n",
              "       [4.000e+00, 2.600e+03, 5.000e+00, ..., 0.000e+00, 0.000e+00,\n",
              "        0.000e+00],\n",
              "       [3.000e+00, 1.440e+03, 2.000e+00, ..., 0.000e+00, 0.000e+00,\n",
              "        0.000e+00],\n",
              "       ...,\n",
              "       [5.000e+00, 3.453e+03, 4.000e+00, ..., 0.000e+00, 0.000e+00,\n",
              "        0.000e+00],\n",
              "       [2.000e+00, 1.141e+03, 2.000e+00, ..., 0.000e+00, 0.000e+00,\n",
              "        0.000e+00],\n",
              "       [4.000e+00, 4.689e+03, 4.000e+00, ..., 0.000e+00, 0.000e+00,\n",
              "        0.000e+00]])"
            ]
          },
          "metadata": {
            "tags": []
          },
          "execution_count": 67
        }
      ]
    },
    {
      "cell_type": "code",
      "metadata": {
        "execution": {
          "iopub.execute_input": "2021-04-14T20:56:11.919388Z",
          "iopub.status.busy": "2021-04-14T20:56:11.918504Z",
          "iopub.status.idle": "2021-04-14T20:56:11.925002Z",
          "shell.execute_reply": "2021-04-14T20:56:11.925555Z"
        },
        "papermill": {
          "duration": 0.098924,
          "end_time": "2021-04-14T20:56:11.925830",
          "exception": false,
          "start_time": "2021-04-14T20:56:11.826906",
          "status": "completed"
        },
        "tags": [],
        "id": "assisted-cardiff",
        "outputId": "1a0cae36-9ec0-4ee3-99d8-1906cd7e0c09"
      },
      "source": [
        "X.shape"
      ],
      "id": "assisted-cardiff",
      "execution_count": null,
      "outputs": [
        {
          "output_type": "execute_result",
          "data": {
            "text/plain": [
              "(11499, 234)"
            ]
          },
          "metadata": {
            "tags": []
          },
          "execution_count": 68
        }
      ]
    },
    {
      "cell_type": "code",
      "metadata": {
        "execution": {
          "iopub.execute_input": "2021-04-14T20:56:12.114606Z",
          "iopub.status.busy": "2021-04-14T20:56:12.113722Z",
          "iopub.status.idle": "2021-04-14T20:56:12.120624Z",
          "shell.execute_reply": "2021-04-14T20:56:12.120008Z"
        },
        "papermill": {
          "duration": 0.103451,
          "end_time": "2021-04-14T20:56:12.120830",
          "exception": false,
          "start_time": "2021-04-14T20:56:12.017379",
          "status": "completed"
        },
        "tags": [],
        "id": "express-pickup"
      },
      "source": [
        "y=df['price'].values"
      ],
      "id": "express-pickup",
      "execution_count": null,
      "outputs": []
    },
    {
      "cell_type": "code",
      "metadata": {
        "execution": {
          "iopub.execute_input": "2021-04-14T20:56:12.310781Z",
          "iopub.status.busy": "2021-04-14T20:56:12.309746Z",
          "iopub.status.idle": "2021-04-14T20:56:12.314714Z",
          "shell.execute_reply": "2021-04-14T20:56:12.316138Z"
        },
        "papermill": {
          "duration": 0.104075,
          "end_time": "2021-04-14T20:56:12.316440",
          "exception": false,
          "start_time": "2021-04-14T20:56:12.212365",
          "status": "completed"
        },
        "tags": [],
        "id": "happy-support",
        "outputId": "a2bb66b2-46be-49ca-c51e-76787cd65a72"
      },
      "source": [
        "print(X.shape)\n",
        "print(y.shape)"
      ],
      "id": "happy-support",
      "execution_count": null,
      "outputs": [
        {
          "output_type": "stream",
          "text": [
            "(11499, 234)\n",
            "(11499,)\n"
          ],
          "name": "stdout"
        }
      ]
    },
    {
      "cell_type": "code",
      "metadata": {
        "execution": {
          "iopub.execute_input": "2021-04-14T20:56:12.525461Z",
          "iopub.status.busy": "2021-04-14T20:56:12.522268Z",
          "iopub.status.idle": "2021-04-14T20:56:12.632319Z",
          "shell.execute_reply": "2021-04-14T20:56:12.631675Z"
        },
        "papermill": {
          "duration": 0.223299,
          "end_time": "2021-04-14T20:56:12.632531",
          "exception": false,
          "start_time": "2021-04-14T20:56:12.409232",
          "status": "completed"
        },
        "tags": [],
        "id": "neutral-class"
      },
      "source": [
        "from sklearn.model_selection import train_test_split\n",
        "X_train,X_test,y_train,y_test= train_test_split(X,y,test_size=0.2,random_state=0)"
      ],
      "id": "neutral-class",
      "execution_count": null,
      "outputs": []
    },
    {
      "cell_type": "code",
      "metadata": {
        "execution": {
          "iopub.execute_input": "2021-04-14T20:56:12.816949Z",
          "iopub.status.busy": "2021-04-14T20:56:12.816173Z",
          "iopub.status.idle": "2021-04-14T20:56:12.821558Z",
          "shell.execute_reply": "2021-04-14T20:56:12.820886Z"
        },
        "papermill": {
          "duration": 0.101599,
          "end_time": "2021-04-14T20:56:12.821782",
          "exception": false,
          "start_time": "2021-04-14T20:56:12.720183",
          "status": "completed"
        },
        "tags": [],
        "id": "nuclear-grass",
        "outputId": "3123d71e-8f63-4e16-c0cd-da0b98bb8cc5"
      },
      "source": [
        "print(X_train.shape)\n",
        "print(X_test.shape)\n",
        "print(y_train.shape)\n",
        "print(y_test.shape)"
      ],
      "id": "nuclear-grass",
      "execution_count": null,
      "outputs": [
        {
          "output_type": "stream",
          "text": [
            "(9199, 234)\n",
            "(2300, 234)\n",
            "(9199,)\n",
            "(2300,)\n"
          ],
          "name": "stdout"
        }
      ]
    },
    {
      "cell_type": "code",
      "metadata": {
        "execution": {
          "iopub.execute_input": "2021-04-14T20:56:13.005208Z",
          "iopub.status.busy": "2021-04-14T20:56:13.004151Z",
          "iopub.status.idle": "2021-04-14T20:56:13.125864Z",
          "shell.execute_reply": "2021-04-14T20:56:13.126410Z"
        },
        "papermill": {
          "duration": 0.216764,
          "end_time": "2021-04-14T20:56:13.126692",
          "exception": false,
          "start_time": "2021-04-14T20:56:12.909928",
          "status": "completed"
        },
        "tags": [],
        "id": "controlling-exception"
      },
      "source": [
        "from sklearn.linear_model import LinearRegression"
      ],
      "id": "controlling-exception",
      "execution_count": null,
      "outputs": []
    },
    {
      "cell_type": "code",
      "metadata": {
        "execution": {
          "iopub.execute_input": "2021-04-14T20:56:13.309130Z",
          "iopub.status.busy": "2021-04-14T20:56:13.308135Z",
          "iopub.status.idle": "2021-04-14T20:56:13.312351Z",
          "shell.execute_reply": "2021-04-14T20:56:13.311717Z"
        },
        "papermill": {
          "duration": 0.097837,
          "end_time": "2021-04-14T20:56:13.312513",
          "exception": false,
          "start_time": "2021-04-14T20:56:13.214676",
          "status": "completed"
        },
        "tags": [],
        "id": "unknown-nation"
      },
      "source": [
        "lr= LinearRegression()"
      ],
      "id": "unknown-nation",
      "execution_count": null,
      "outputs": []
    },
    {
      "cell_type": "code",
      "metadata": {
        "execution": {
          "iopub.execute_input": "2021-04-14T20:56:13.498697Z",
          "iopub.status.busy": "2021-04-14T20:56:13.497336Z",
          "iopub.status.idle": "2021-04-14T20:56:13.667780Z",
          "shell.execute_reply": "2021-04-14T20:56:13.668778Z"
        },
        "papermill": {
          "duration": 0.266661,
          "end_time": "2021-04-14T20:56:13.669121",
          "exception": false,
          "start_time": "2021-04-14T20:56:13.402460",
          "status": "completed"
        },
        "tags": [],
        "id": "fifteen-trace",
        "outputId": "ca524e7c-2464-458d-8ef1-a5299d4f7a2d"
      },
      "source": [
        "lr.fit(X_train,y_train)"
      ],
      "id": "fifteen-trace",
      "execution_count": null,
      "outputs": [
        {
          "output_type": "execute_result",
          "data": {
            "text/plain": [
              "LinearRegression()"
            ]
          },
          "metadata": {
            "tags": []
          },
          "execution_count": 75
        }
      ]
    },
    {
      "cell_type": "code",
      "metadata": {
        "execution": {
          "iopub.execute_input": "2021-04-14T20:56:13.909563Z",
          "iopub.status.busy": "2021-04-14T20:56:13.908035Z",
          "iopub.status.idle": "2021-04-14T20:56:13.911564Z",
          "shell.execute_reply": "2021-04-14T20:56:13.910607Z"
        },
        "papermill": {
          "duration": 0.105315,
          "end_time": "2021-04-14T20:56:13.911837",
          "exception": false,
          "start_time": "2021-04-14T20:56:13.806522",
          "status": "completed"
        },
        "tags": [],
        "id": "knowing-darkness"
      },
      "source": [
        "y_pred=lr.predict(X_test)"
      ],
      "id": "knowing-darkness",
      "execution_count": null,
      "outputs": []
    },
    {
      "cell_type": "code",
      "metadata": {
        "execution": {
          "iopub.execute_input": "2021-04-14T20:56:14.148242Z",
          "iopub.status.busy": "2021-04-14T20:56:14.147479Z",
          "iopub.status.idle": "2021-04-14T20:56:14.149933Z",
          "shell.execute_reply": "2021-04-14T20:56:14.150409Z"
        },
        "papermill": {
          "duration": 0.098659,
          "end_time": "2021-04-14T20:56:14.150617",
          "exception": false,
          "start_time": "2021-04-14T20:56:14.051958",
          "status": "completed"
        },
        "tags": [],
        "id": "classified-network"
      },
      "source": [
        "from sklearn.metrics import r2_score"
      ],
      "id": "classified-network",
      "execution_count": null,
      "outputs": []
    },
    {
      "cell_type": "code",
      "metadata": {
        "execution": {
          "iopub.execute_input": "2021-04-14T20:56:14.336297Z",
          "iopub.status.busy": "2021-04-14T20:56:14.335526Z",
          "iopub.status.idle": "2021-04-14T20:56:14.343580Z",
          "shell.execute_reply": "2021-04-14T20:56:14.343006Z"
        },
        "papermill": {
          "duration": 0.101724,
          "end_time": "2021-04-14T20:56:14.343771",
          "exception": false,
          "start_time": "2021-04-14T20:56:14.242047",
          "status": "completed"
        },
        "tags": [],
        "id": "pressing-kenya",
        "outputId": "94463193-2abd-43a7-d8c8-72a129c6ce57"
      },
      "source": [
        "r2_score(y_test,y_pred)"
      ],
      "id": "pressing-kenya",
      "execution_count": null,
      "outputs": [
        {
          "output_type": "execute_result",
          "data": {
            "text/plain": [
              "0.6933611383838678"
            ]
          },
          "metadata": {
            "tags": []
          },
          "execution_count": 78
        }
      ]
    },
    {
      "cell_type": "code",
      "metadata": {
        "execution": {
          "iopub.execute_input": "2021-04-14T20:56:14.529168Z",
          "iopub.status.busy": "2021-04-14T20:56:14.528431Z",
          "iopub.status.idle": "2021-04-14T20:56:14.656933Z",
          "shell.execute_reply": "2021-04-14T20:56:14.657501Z"
        },
        "papermill": {
          "duration": 0.223443,
          "end_time": "2021-04-14T20:56:14.657782",
          "exception": false,
          "start_time": "2021-04-14T20:56:14.434339",
          "status": "completed"
        },
        "tags": [],
        "id": "faced-begin"
      },
      "source": [
        "from sklearn.tree import DecisionTreeRegressor"
      ],
      "id": "faced-begin",
      "execution_count": null,
      "outputs": []
    },
    {
      "cell_type": "code",
      "metadata": {
        "execution": {
          "iopub.execute_input": "2021-04-14T20:56:14.852079Z",
          "iopub.status.busy": "2021-04-14T20:56:14.851247Z",
          "iopub.status.idle": "2021-04-14T20:56:14.856231Z",
          "shell.execute_reply": "2021-04-14T20:56:14.855627Z"
        },
        "papermill": {
          "duration": 0.106984,
          "end_time": "2021-04-14T20:56:14.856405",
          "exception": false,
          "start_time": "2021-04-14T20:56:14.749421",
          "status": "completed"
        },
        "tags": [],
        "id": "assisted-marina"
      },
      "source": [
        "dct=DecisionTreeRegressor()"
      ],
      "id": "assisted-marina",
      "execution_count": null,
      "outputs": []
    },
    {
      "cell_type": "code",
      "metadata": {
        "execution": {
          "iopub.execute_input": "2021-04-14T20:56:15.043343Z",
          "iopub.status.busy": "2021-04-14T20:56:15.041891Z",
          "iopub.status.idle": "2021-04-14T20:56:15.275841Z",
          "shell.execute_reply": "2021-04-14T20:56:15.275174Z"
        },
        "papermill": {
          "duration": 0.329449,
          "end_time": "2021-04-14T20:56:15.276016",
          "exception": false,
          "start_time": "2021-04-14T20:56:14.946567",
          "status": "completed"
        },
        "tags": [],
        "id": "turned-colon",
        "outputId": "68044c91-f43f-4cba-ebdc-34f91a2bc875"
      },
      "source": [
        "dct.fit(X_train,y_train)"
      ],
      "id": "turned-colon",
      "execution_count": null,
      "outputs": [
        {
          "output_type": "execute_result",
          "data": {
            "text/plain": [
              "DecisionTreeRegressor()"
            ]
          },
          "metadata": {
            "tags": []
          },
          "execution_count": 81
        }
      ]
    },
    {
      "cell_type": "code",
      "metadata": {
        "execution": {
          "iopub.execute_input": "2021-04-14T20:56:15.466617Z",
          "iopub.status.busy": "2021-04-14T20:56:15.465804Z",
          "iopub.status.idle": "2021-04-14T20:56:15.472578Z",
          "shell.execute_reply": "2021-04-14T20:56:15.471945Z"
        },
        "papermill": {
          "duration": 0.103494,
          "end_time": "2021-04-14T20:56:15.472772",
          "exception": false,
          "start_time": "2021-04-14T20:56:15.369278",
          "status": "completed"
        },
        "tags": [],
        "id": "promotional-cheese"
      },
      "source": [
        "y_pred1=dct.predict(X_test)"
      ],
      "id": "promotional-cheese",
      "execution_count": null,
      "outputs": []
    },
    {
      "cell_type": "code",
      "metadata": {
        "execution": {
          "iopub.execute_input": "2021-04-14T20:56:15.664248Z",
          "iopub.status.busy": "2021-04-14T20:56:15.663183Z",
          "iopub.status.idle": "2021-04-14T20:56:15.668996Z",
          "shell.execute_reply": "2021-04-14T20:56:15.668305Z"
        },
        "papermill": {
          "duration": 0.105444,
          "end_time": "2021-04-14T20:56:15.669188",
          "exception": false,
          "start_time": "2021-04-14T20:56:15.563744",
          "status": "completed"
        },
        "tags": [],
        "id": "egyptian-grenada",
        "outputId": "d49dd0b8-7924-46a9-a5d2-1506127c9d96"
      },
      "source": [
        "r2_score(y_test,y_pred1)"
      ],
      "id": "egyptian-grenada",
      "execution_count": null,
      "outputs": [
        {
          "output_type": "execute_result",
          "data": {
            "text/plain": [
              "0.40403864956350677"
            ]
          },
          "metadata": {
            "tags": []
          },
          "execution_count": 83
        }
      ]
    },
    {
      "cell_type": "code",
      "metadata": {
        "execution": {
          "iopub.execute_input": "2021-04-14T20:56:15.858344Z",
          "iopub.status.busy": "2021-04-14T20:56:15.857519Z",
          "iopub.status.idle": "2021-04-14T20:56:15.897773Z",
          "shell.execute_reply": "2021-04-14T20:56:15.897022Z"
        },
        "papermill": {
          "duration": 0.136375,
          "end_time": "2021-04-14T20:56:15.897970",
          "exception": false,
          "start_time": "2021-04-14T20:56:15.761595",
          "status": "completed"
        },
        "tags": [],
        "id": "recovered-overview"
      },
      "source": [
        "from sklearn.ensemble import RandomForestRegressor"
      ],
      "id": "recovered-overview",
      "execution_count": null,
      "outputs": []
    },
    {
      "cell_type": "code",
      "metadata": {
        "execution": {
          "iopub.execute_input": "2021-04-14T20:56:16.091517Z",
          "iopub.status.busy": "2021-04-14T20:56:16.090494Z",
          "iopub.status.idle": "2021-04-14T20:56:16.094992Z",
          "shell.execute_reply": "2021-04-14T20:56:16.094355Z"
        },
        "papermill": {
          "duration": 0.105241,
          "end_time": "2021-04-14T20:56:16.095177",
          "exception": false,
          "start_time": "2021-04-14T20:56:15.989936",
          "status": "completed"
        },
        "tags": [],
        "id": "boxed-computer"
      },
      "source": [
        "rfr=RandomForestRegressor(n_estimators=200)"
      ],
      "id": "boxed-computer",
      "execution_count": null,
      "outputs": []
    },
    {
      "cell_type": "code",
      "metadata": {
        "execution": {
          "iopub.execute_input": "2021-04-14T20:56:16.283880Z",
          "iopub.status.busy": "2021-04-14T20:56:16.283139Z",
          "iopub.status.idle": "2021-04-14T20:56:40.210932Z",
          "shell.execute_reply": "2021-04-14T20:56:40.210176Z"
        },
        "papermill": {
          "duration": 24.023258,
          "end_time": "2021-04-14T20:56:40.211113",
          "exception": false,
          "start_time": "2021-04-14T20:56:16.187855",
          "status": "completed"
        },
        "tags": [],
        "id": "productive-physiology",
        "outputId": "94fb69d8-32b4-4dd9-cc0f-e82b2412c7f3"
      },
      "source": [
        "rfr.fit(X_train,y_train)"
      ],
      "id": "productive-physiology",
      "execution_count": null,
      "outputs": [
        {
          "output_type": "execute_result",
          "data": {
            "text/plain": [
              "RandomForestRegressor(n_estimators=200)"
            ]
          },
          "metadata": {
            "tags": []
          },
          "execution_count": 86
        }
      ]
    },
    {
      "cell_type": "code",
      "metadata": {
        "execution": {
          "iopub.execute_input": "2021-04-14T20:56:40.397550Z",
          "iopub.status.busy": "2021-04-14T20:56:40.396817Z",
          "iopub.status.idle": "2021-04-14T20:56:40.578156Z",
          "shell.execute_reply": "2021-04-14T20:56:40.577294Z"
        },
        "papermill": {
          "duration": 0.276836,
          "end_time": "2021-04-14T20:56:40.578337",
          "exception": false,
          "start_time": "2021-04-14T20:56:40.301501",
          "status": "completed"
        },
        "tags": [],
        "id": "greek-uniform"
      },
      "source": [
        "y_pred2=rfr.predict(X_test)"
      ],
      "id": "greek-uniform",
      "execution_count": null,
      "outputs": []
    },
    {
      "cell_type": "code",
      "metadata": {
        "execution": {
          "iopub.execute_input": "2021-04-14T20:56:40.773076Z",
          "iopub.status.busy": "2021-04-14T20:56:40.772000Z",
          "iopub.status.idle": "2021-04-14T20:56:40.777066Z",
          "shell.execute_reply": "2021-04-14T20:56:40.776407Z"
        },
        "papermill": {
          "duration": 0.106291,
          "end_time": "2021-04-14T20:56:40.777234",
          "exception": false,
          "start_time": "2021-04-14T20:56:40.670943",
          "status": "completed"
        },
        "tags": [],
        "id": "generic-hybrid",
        "outputId": "f4de7497-c8c3-45af-a4e3-9d43cb4c295a"
      },
      "source": [
        "r2_score(y_test,y_pred2)"
      ],
      "id": "generic-hybrid",
      "execution_count": null,
      "outputs": [
        {
          "output_type": "execute_result",
          "data": {
            "text/plain": [
              "0.6880752377836971"
            ]
          },
          "metadata": {
            "tags": []
          },
          "execution_count": 88
        }
      ]
    },
    {
      "cell_type": "code",
      "metadata": {
        "execution": {
          "iopub.execute_input": "2021-04-14T20:56:40.968996Z",
          "iopub.status.busy": "2021-04-14T20:56:40.968275Z",
          "iopub.status.idle": "2021-04-14T20:56:40.972029Z",
          "shell.execute_reply": "2021-04-14T20:56:40.972579Z"
        },
        "papermill": {
          "duration": 0.100086,
          "end_time": "2021-04-14T20:56:40.972830",
          "exception": false,
          "start_time": "2021-04-14T20:56:40.872744",
          "status": "completed"
        },
        "tags": [],
        "id": "overhead-terror"
      },
      "source": [
        "from sklearn.linear_model import LogisticRegression "
      ],
      "id": "overhead-terror",
      "execution_count": null,
      "outputs": []
    },
    {
      "cell_type": "code",
      "metadata": {
        "execution": {
          "iopub.execute_input": "2021-04-14T20:56:41.165263Z",
          "iopub.status.busy": "2021-04-14T20:56:41.164441Z",
          "iopub.status.idle": "2021-04-14T20:56:41.168029Z",
          "shell.execute_reply": "2021-04-14T20:56:41.168497Z"
        },
        "papermill": {
          "duration": 0.101566,
          "end_time": "2021-04-14T20:56:41.168749",
          "exception": false,
          "start_time": "2021-04-14T20:56:41.067183",
          "status": "completed"
        },
        "tags": [],
        "id": "covered-complex"
      },
      "source": [
        "import pickle"
      ],
      "id": "covered-complex",
      "execution_count": null,
      "outputs": []
    },
    {
      "cell_type": "code",
      "metadata": {
        "execution": {
          "iopub.execute_input": "2021-04-14T20:56:41.358795Z",
          "iopub.status.busy": "2021-04-14T20:56:41.358015Z",
          "iopub.status.idle": "2021-04-14T20:56:41.362610Z",
          "shell.execute_reply": "2021-04-14T20:56:41.363177Z"
        },
        "papermill": {
          "duration": 0.101295,
          "end_time": "2021-04-14T20:56:41.363373",
          "exception": false,
          "start_time": "2021-04-14T20:56:41.262078",
          "status": "completed"
        },
        "tags": [],
        "id": "higher-relationship"
      },
      "source": [
        "pickle.dump(location_encoder, open('location_encoder.pkl','wb'))\n"
      ],
      "id": "higher-relationship",
      "execution_count": null,
      "outputs": []
    },
    {
      "cell_type": "code",
      "metadata": {
        "execution": {
          "iopub.execute_input": "2021-04-14T20:56:41.556243Z",
          "iopub.status.busy": "2021-04-14T20:56:41.555406Z",
          "iopub.status.idle": "2021-04-14T20:56:41.559814Z",
          "shell.execute_reply": "2021-04-14T20:56:41.559067Z"
        },
        "papermill": {
          "duration": 0.104652,
          "end_time": "2021-04-14T20:56:41.559978",
          "exception": false,
          "start_time": "2021-04-14T20:56:41.455326",
          "status": "completed"
        },
        "tags": [],
        "id": "varied-crest"
      },
      "source": [
        "pickle.dump(area_encoder, open('area_encoder.pkl','wb'))"
      ],
      "id": "varied-crest",
      "execution_count": null,
      "outputs": []
    },
    {
      "cell_type": "code",
      "metadata": {
        "execution": {
          "iopub.execute_input": "2021-04-14T20:56:41.822323Z",
          "iopub.status.busy": "2021-04-14T20:56:41.821528Z",
          "iopub.status.idle": "2021-04-14T20:56:41.825768Z",
          "shell.execute_reply": "2021-04-14T20:56:41.825157Z"
        },
        "papermill": {
          "duration": 0.101658,
          "end_time": "2021-04-14T20:56:41.825929",
          "exception": false,
          "start_time": "2021-04-14T20:56:41.724271",
          "status": "completed"
        },
        "tags": [],
        "id": "compound-genetics"
      },
      "source": [
        "pickle.dump(ohe, open('ohe.pkl','wb'))"
      ],
      "id": "compound-genetics",
      "execution_count": null,
      "outputs": []
    },
    {
      "cell_type": "code",
      "metadata": {
        "execution": {
          "iopub.execute_input": "2021-04-14T20:56:42.022106Z",
          "iopub.status.busy": "2021-04-14T20:56:42.020926Z",
          "iopub.status.idle": "2021-04-14T20:56:42.026671Z",
          "shell.execute_reply": "2021-04-14T20:56:42.025932Z"
        },
        "papermill": {
          "duration": 0.106499,
          "end_time": "2021-04-14T20:56:42.026839",
          "exception": false,
          "start_time": "2021-04-14T20:56:41.920340",
          "status": "completed"
        },
        "tags": [],
        "id": "liked-hardware"
      },
      "source": [
        "pickle.dump(lr,open('model.pkl','wb'))"
      ],
      "id": "liked-hardware",
      "execution_count": null,
      "outputs": []
    },
    {
      "cell_type": "code",
      "metadata": {
        "execution": {
          "iopub.execute_input": "2021-04-14T20:56:42.222328Z",
          "iopub.status.busy": "2021-04-14T20:56:42.221597Z",
          "iopub.status.idle": "2021-04-14T20:56:42.456336Z",
          "shell.execute_reply": "2021-04-14T20:56:42.455537Z"
        },
        "papermill": {
          "duration": 0.333546,
          "end_time": "2021-04-14T20:56:42.456510",
          "exception": false,
          "start_time": "2021-04-14T20:56:42.122964",
          "status": "completed"
        },
        "tags": [],
        "id": "plastic-indie"
      },
      "source": [
        "pickle.dump(rfr,open('Rfrmodel.pkl','wb'))"
      ],
      "id": "plastic-indie",
      "execution_count": null,
      "outputs": []
    },
    {
      "cell_type": "code",
      "metadata": {
        "papermill": {
          "duration": 0.100555,
          "end_time": "2021-04-14T20:56:42.651253",
          "exception": false,
          "start_time": "2021-04-14T20:56:42.550698",
          "status": "completed"
        },
        "tags": [],
        "id": "reflected-material"
      },
      "source": [
        ""
      ],
      "id": "reflected-material",
      "execution_count": null,
      "outputs": []
    }
  ]
}